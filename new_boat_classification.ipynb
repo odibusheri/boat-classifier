{
  "nbformat": 4,
  "nbformat_minor": 0,
  "metadata": {
    "colab": {
      "name": "new_boat_classification.ipynb",
      "provenance": [],
      "collapsed_sections": [],
      "toc_visible": true
    },
    "kernelspec": {
      "name": "python3",
      "display_name": "Python 3"
    },
    "language_info": {
      "name": "python"
    },
    "accelerator": "GPU"
  },
  "cells": [
    {
      "cell_type": "markdown",
      "source": [
        "# Boat Type Classification  \n",
        "Suggested algorithm to classify marine vessels from images using ResNet50 for feature extraction and LDA model for classification   \n",
        "BY:  \n",
        "Eddie Rudoy 313533341  \n",
        "Odeia Busheri 206059156\n",
        "\n",
        "\n"
      ],
      "metadata": {
        "id": "wGTLYPhWrbVZ"
      }
    },
    {
      "cell_type": "code",
      "execution_count": 1,
      "metadata": {
        "colab": {
          "base_uri": "https://localhost:8080/"
        },
        "id": "FoIwrE-cw8sQ",
        "outputId": "3f8f81dc-6119-4d01-fdd7-635cc44414d9"
      },
      "outputs": [
        {
          "output_type": "stream",
          "name": "stdout",
          "text": [
            "Requirement already satisfied: plotly in /usr/local/lib/python3.7/dist-packages (5.7.0)\n",
            "Requirement already satisfied: tenacity>=6.2.0 in /usr/local/lib/python3.7/dist-packages (from plotly) (8.0.1)\n",
            "Requirement already satisfied: six in /usr/local/lib/python3.7/dist-packages (from plotly) (1.15.0)\n",
            "Requirement already satisfied: scikit-learn in /usr/local/lib/python3.7/dist-packages (1.0.2)\n",
            "Requirement already satisfied: numpy>=1.14.6 in /usr/local/lib/python3.7/dist-packages (from scikit-learn) (1.21.5)\n",
            "Requirement already satisfied: scipy>=1.1.0 in /usr/local/lib/python3.7/dist-packages (from scikit-learn) (1.4.1)\n",
            "Requirement already satisfied: joblib>=0.11 in /usr/local/lib/python3.7/dist-packages (from scikit-learn) (1.1.0)\n",
            "Requirement already satisfied: threadpoolctl>=2.0.0 in /usr/local/lib/python3.7/dist-packages (from scikit-learn) (3.1.0)\n",
            "\n",
            "Usage:   \n",
            "  pip3 uninstall [options] <package> ...\n",
            "  pip3 uninstall [options] -r <requirements file> ...\n",
            "\n",
            "no such option: -Y\n",
            "Requirement already satisfied: matplotlib in /usr/local/lib/python3.7/dist-packages (3.2.2)\n",
            "Requirement already satisfied: pyparsing!=2.0.4,!=2.1.2,!=2.1.6,>=2.0.1 in /usr/local/lib/python3.7/dist-packages (from matplotlib) (3.0.7)\n",
            "Requirement already satisfied: python-dateutil>=2.1 in /usr/local/lib/python3.7/dist-packages (from matplotlib) (2.8.2)\n",
            "Requirement already satisfied: cycler>=0.10 in /usr/local/lib/python3.7/dist-packages (from matplotlib) (0.11.0)\n",
            "Requirement already satisfied: kiwisolver>=1.0.1 in /usr/local/lib/python3.7/dist-packages (from matplotlib) (1.4.0)\n",
            "Requirement already satisfied: numpy>=1.11 in /usr/local/lib/python3.7/dist-packages (from matplotlib) (1.21.5)\n",
            "Requirement already satisfied: typing-extensions in /usr/local/lib/python3.7/dist-packages (from kiwisolver>=1.0.1->matplotlib) (3.10.0.2)\n",
            "Requirement already satisfied: six>=1.5 in /usr/local/lib/python3.7/dist-packages (from python-dateutil>=2.1->matplotlib) (1.15.0)\n"
          ]
        }
      ],
      "source": [
        "!pip install --upgrade plotly\n",
        "!pip install -U scikit-learn\n",
        "!pip uninstall matplotlib -Y\n",
        "!pip install matplotlib\n",
        "# !pip instal sklearn_evaluation"
      ]
    },
    {
      "cell_type": "code",
      "source": [
        "!pip install sklearn-evaluation"
      ],
      "metadata": {
        "colab": {
          "base_uri": "https://localhost:8080/"
        },
        "id": "M-SuanWIh4r0",
        "outputId": "16b5a572-551a-4f2a-8f55-c2216e387bbe"
      },
      "execution_count": 2,
      "outputs": [
        {
          "output_type": "stream",
          "name": "stdout",
          "text": [
            "Requirement already satisfied: sklearn-evaluation in /usr/local/lib/python3.7/dist-packages (0.5.7)\n",
            "Requirement already satisfied: tabulate in /usr/local/lib/python3.7/dist-packages (from sklearn-evaluation) (0.8.9)\n",
            "Requirement already satisfied: black in /usr/local/lib/python3.7/dist-packages (from sklearn-evaluation) (22.3.0)\n",
            "Requirement already satisfied: parso in /usr/local/lib/python3.7/dist-packages (from sklearn-evaluation) (0.8.3)\n",
            "Requirement already satisfied: matplotlib in /usr/local/lib/python3.7/dist-packages (from sklearn-evaluation) (3.2.2)\n",
            "Requirement already satisfied: ipython in /usr/local/lib/python3.7/dist-packages (from sklearn-evaluation) (5.5.0)\n",
            "Requirement already satisfied: nbformat in /usr/local/lib/python3.7/dist-packages (from sklearn-evaluation) (5.2.0)\n",
            "Requirement already satisfied: scikit-learn in /usr/local/lib/python3.7/dist-packages (from sklearn-evaluation) (1.0.2)\n",
            "Requirement already satisfied: mistune in /usr/local/lib/python3.7/dist-packages (from sklearn-evaluation) (0.8.4)\n",
            "Requirement already satisfied: decorator in /usr/local/lib/python3.7/dist-packages (from sklearn-evaluation) (4.4.2)\n",
            "Requirement already satisfied: jinja2 in /usr/local/lib/python3.7/dist-packages (from sklearn-evaluation) (2.11.3)\n",
            "Requirement already satisfied: pandas in /usr/local/lib/python3.7/dist-packages (from sklearn-evaluation) (1.3.5)\n",
            "Requirement already satisfied: typed-ast>=1.4.2 in /usr/local/lib/python3.7/dist-packages (from black->sklearn-evaluation) (1.5.2)\n",
            "Requirement already satisfied: platformdirs>=2 in /usr/local/lib/python3.7/dist-packages (from black->sklearn-evaluation) (2.5.1)\n",
            "Requirement already satisfied: mypy-extensions>=0.4.3 in /usr/local/lib/python3.7/dist-packages (from black->sklearn-evaluation) (0.4.3)\n",
            "Requirement already satisfied: pathspec>=0.9.0 in /usr/local/lib/python3.7/dist-packages (from black->sklearn-evaluation) (0.9.0)\n",
            "Requirement already satisfied: click>=8.0.0 in /usr/local/lib/python3.7/dist-packages (from black->sklearn-evaluation) (8.1.2)\n",
            "Requirement already satisfied: tomli>=1.1.0 in /usr/local/lib/python3.7/dist-packages (from black->sklearn-evaluation) (2.0.1)\n",
            "Requirement already satisfied: typing-extensions>=3.10.0.0 in /usr/local/lib/python3.7/dist-packages (from black->sklearn-evaluation) (3.10.0.2)\n",
            "Requirement already satisfied: importlib-metadata in /usr/local/lib/python3.7/dist-packages (from click>=8.0.0->black->sklearn-evaluation) (4.11.3)\n",
            "Requirement already satisfied: zipp>=0.5 in /usr/local/lib/python3.7/dist-packages (from importlib-metadata->click>=8.0.0->black->sklearn-evaluation) (3.7.0)\n",
            "Requirement already satisfied: prompt-toolkit<2.0.0,>=1.0.4 in /usr/local/lib/python3.7/dist-packages (from ipython->sklearn-evaluation) (1.0.18)\n",
            "Requirement already satisfied: simplegeneric>0.8 in /usr/local/lib/python3.7/dist-packages (from ipython->sklearn-evaluation) (0.8.1)\n",
            "Requirement already satisfied: pygments in /usr/local/lib/python3.7/dist-packages (from ipython->sklearn-evaluation) (2.6.1)\n",
            "Requirement already satisfied: pexpect in /usr/local/lib/python3.7/dist-packages (from ipython->sklearn-evaluation) (4.8.0)\n",
            "Requirement already satisfied: traitlets>=4.2 in /usr/local/lib/python3.7/dist-packages (from ipython->sklearn-evaluation) (5.1.1)\n",
            "Requirement already satisfied: pickleshare in /usr/local/lib/python3.7/dist-packages (from ipython->sklearn-evaluation) (0.7.5)\n",
            "Requirement already satisfied: setuptools>=18.5 in /usr/local/lib/python3.7/dist-packages (from ipython->sklearn-evaluation) (57.4.0)\n",
            "Requirement already satisfied: six>=1.9.0 in /usr/local/lib/python3.7/dist-packages (from prompt-toolkit<2.0.0,>=1.0.4->ipython->sklearn-evaluation) (1.15.0)\n",
            "Requirement already satisfied: wcwidth in /usr/local/lib/python3.7/dist-packages (from prompt-toolkit<2.0.0,>=1.0.4->ipython->sklearn-evaluation) (0.2.5)\n",
            "Requirement already satisfied: MarkupSafe>=0.23 in /usr/local/lib/python3.7/dist-packages (from jinja2->sklearn-evaluation) (2.0.1)\n",
            "Requirement already satisfied: python-dateutil>=2.1 in /usr/local/lib/python3.7/dist-packages (from matplotlib->sklearn-evaluation) (2.8.2)\n",
            "Requirement already satisfied: cycler>=0.10 in /usr/local/lib/python3.7/dist-packages (from matplotlib->sklearn-evaluation) (0.11.0)\n",
            "Requirement already satisfied: numpy>=1.11 in /usr/local/lib/python3.7/dist-packages (from matplotlib->sklearn-evaluation) (1.21.5)\n",
            "Requirement already satisfied: kiwisolver>=1.0.1 in /usr/local/lib/python3.7/dist-packages (from matplotlib->sklearn-evaluation) (1.4.0)\n",
            "Requirement already satisfied: pyparsing!=2.0.4,!=2.1.2,!=2.1.6,>=2.0.1 in /usr/local/lib/python3.7/dist-packages (from matplotlib->sklearn-evaluation) (3.0.7)\n",
            "Requirement already satisfied: jupyter-core in /usr/local/lib/python3.7/dist-packages (from nbformat->sklearn-evaluation) (4.9.2)\n",
            "Requirement already satisfied: jsonschema!=2.5.0,>=2.4 in /usr/local/lib/python3.7/dist-packages (from nbformat->sklearn-evaluation) (4.3.3)\n",
            "Requirement already satisfied: pyrsistent!=0.17.0,!=0.17.1,!=0.17.2,>=0.14.0 in /usr/local/lib/python3.7/dist-packages (from jsonschema!=2.5.0,>=2.4->nbformat->sklearn-evaluation) (0.18.1)\n",
            "Requirement already satisfied: attrs>=17.4.0 in /usr/local/lib/python3.7/dist-packages (from jsonschema!=2.5.0,>=2.4->nbformat->sklearn-evaluation) (21.4.0)\n",
            "Requirement already satisfied: importlib-resources>=1.4.0 in /usr/local/lib/python3.7/dist-packages (from jsonschema!=2.5.0,>=2.4->nbformat->sklearn-evaluation) (5.4.0)\n",
            "Requirement already satisfied: pytz>=2017.3 in /usr/local/lib/python3.7/dist-packages (from pandas->sklearn-evaluation) (2018.9)\n",
            "Requirement already satisfied: ptyprocess>=0.5 in /usr/local/lib/python3.7/dist-packages (from pexpect->ipython->sklearn-evaluation) (0.7.0)\n",
            "Requirement already satisfied: scipy>=1.1.0 in /usr/local/lib/python3.7/dist-packages (from scikit-learn->sklearn-evaluation) (1.4.1)\n",
            "Requirement already satisfied: joblib>=0.11 in /usr/local/lib/python3.7/dist-packages (from scikit-learn->sklearn-evaluation) (1.1.0)\n",
            "Requirement already satisfied: threadpoolctl>=2.0.0 in /usr/local/lib/python3.7/dist-packages (from scikit-learn->sklearn-evaluation) (3.1.0)\n"
          ]
        }
      ]
    },
    {
      "cell_type": "markdown",
      "source": [
        "## Library Imports"
      ],
      "metadata": {
        "id": "NQbi-TMQrWsE"
      }
    },
    {
      "cell_type": "code",
      "source": [
        "%cd '/content/drive/MyDrive/Colab Notebooks/Boat_Classification'\n",
        "\n",
        "import random\n",
        "import os\n",
        "\n",
        "import numpy as np\n",
        "import pandas as pd\n",
        "import PIL\n",
        "\n",
        "import matplotlib.pyplot as plt\n",
        "import plotly.express as px\n",
        "import glob\n",
        "import cv2\n",
        "\n",
        "import tensorflow as tf\n",
        "from keras.models import Model, Sequential\n",
        "from keras.layers import Dense, Flatten, Conv2D, MaxPooling2D\n",
        "\n",
        "from tensorflow.keras.layers import BatchNormalization\n",
        "import os\n",
        "import seaborn as sns\n",
        "from keras.applications.vgg16 import VGG16\n",
        "from keras.applications.vgg19 import VGG19\n",
        "from keras.applications.resnet import ResNet152\n",
        "from keras.applications.resnet import ResNet50\n",
        "from keras.preprocessing.image import ImageDataGenerator\n",
        "\n",
        "from sklearn import metrics\n",
        "from sklearn.metrics import f1_score\n",
        "\n",
        "import skimage.io as io\n",
        "import torch\n",
        "\n",
        "from statistics import mean\n",
        "import time"
      ],
      "metadata": {
        "colab": {
          "base_uri": "https://localhost:8080/"
        },
        "id": "xO0zqwXuxkfm",
        "outputId": "3dd80c6b-db85-4200-cb59-01986dc8ab7a"
      },
      "execution_count": 1,
      "outputs": [
        {
          "output_type": "stream",
          "name": "stdout",
          "text": [
            "/content/drive/MyDrive/Colab Notebooks/Boat_Classification\n"
          ]
        }
      ]
    },
    {
      "cell_type": "code",
      "source": [
        "class Config: \n",
        "    \"\"\"\n",
        "    \"\"\"\n",
        "    DEVICE = 'cuda' if torch.cuda.is_available() else 'cpu'\n",
        "    INPUT_PATH = '/content/drive/MyDrive/Colab Notebooks/Boat_Classification/VAIS'\n",
        "    N_EPOCH = 30\n",
        "    BATCH_SIZE = 32\n",
        "    TEST_SIZE = 0.2\n",
        "    RANDOM_STATE = 42\n",
        "    IMG_SIZE = 224\n",
        "    LABELS = ['EO_Files',\n",
        "              'IR_Files',\n",
        "              'FG_Labels',\n",
        "              'Basic_Labels',\n",
        "              'ID',\n",
        "              'isTrain',\n",
        "              'isNight'\n",
        "              ]\n",
        "    CLASSES = ['cargo', 'medium-other', 'passanger', 'sailing', 'small', 'tug']\n",
        "    N_CLASSES = len(CLASSES),\n",
        "    CLASS_THRESHOLD = 0.4,\n",
        "    folders = ({\n",
        "        'vi_train_images': os.path.join(INPUT_PATH, 'data_vi/train_images'), \n",
        "        'vi_test_images': os.path.join(INPUT_PATH, 'data_vi/test_images'),\n",
        "        'ir_train_images': os.path.join(INPUT_PATH, 'data_ir/train_images'),\n",
        "        'ir_test_images': os.path.join(INPUT_PATH, 'data_ir/test_images'),\n",
        "        'all_train_images': os.path.join(INPUT_PATH, 'all_data/train_images'),\n",
        "        'all_test_images': os.path.join(INPUT_PATH, 'all_data/test_images'),\n",
        "    })"
      ],
      "metadata": {
        "id": "CYo6HXnFxn7I"
      },
      "execution_count": 2,
      "outputs": []
    },
    {
      "cell_type": "markdown",
      "source": [
        "# Data import"
      ],
      "metadata": {
        "id": "CBUmvs1uRfik"
      }
    },
    {
      "cell_type": "code",
      "source": [
        "train_data = pd.read_csv('/content/drive/MyDrive/Colab Notebooks/Boat_Classification/train.csv')\n",
        "\n",
        "display(train_data)"
      ],
      "metadata": {
        "colab": {
          "base_uri": "https://localhost:8080/",
          "height": 424
        },
        "id": "F5uRoGVABZL9",
        "outputId": "5e688db2-7e58-42f1-d842-c524040e153b"
      },
      "execution_count": 7,
      "outputs": [
        {
          "output_type": "display_data",
          "data": {
            "text/plain": [
              "                                               EO_Files  \\\n",
              "0     jetski/jetski1/2014-06-25-13-56_00003-eo_img0_...   \n",
              "1     sailing-small-sails_up/sailboat3/2014-06-25-13...   \n",
              "2     sailing-small-sails_up/sailboat4/2014-06-25-13...   \n",
              "3     jetski/jetski1/2014-06-25-13-56_00006-eo_img0_...   \n",
              "4     sailing-small-sails_up/sailboat3/2014-06-25-13...   \n",
              "...                                                 ...   \n",
              "1775                                                NaN   \n",
              "1776                                                NaN   \n",
              "1777                                                NaN   \n",
              "1778                                                NaN   \n",
              "1779                                                NaN   \n",
              "\n",
              "                                               IR_Files  \\\n",
              "0                                                   NaN   \n",
              "1                                                   NaN   \n",
              "2                                                   NaN   \n",
              "3                                                   NaN   \n",
              "4                                                   NaN   \n",
              "...                                                 ...   \n",
              "1775  pleasure/pleasure31/2014-09-15-20-13_00010-ir_...   \n",
              "1776  pleasure/pleasure31/2014-09-15-20-13_00015-ir_...   \n",
              "1777  pleasure/pleasure31/2014-09-15-20-13_00020-ir_...   \n",
              "1778  pleasure/pleasure30/2014-09-15-20-18_00020-ir_...   \n",
              "1779  pleasure/pleasure30/2014-09-15-20-18_00025-ir_...   \n",
              "\n",
              "                   FG_Labels Basic_Labels   ID  isTrain  isNight  \n",
              "0                     jetski        small    1        1        0  \n",
              "1     sailing-small-sails_up      sailing    2        0        0  \n",
              "2     sailing-small-sails_up      sailing    3        0        0  \n",
              "3                     jetski        small    1        1        0  \n",
              "4     sailing-small-sails_up      sailing    2        0        0  \n",
              "...                      ...          ...  ...      ...      ...  \n",
              "1775                pleasure        small  116        0        1  \n",
              "1776                pleasure        small  116        0        1  \n",
              "1777                pleasure        small  116        0        1  \n",
              "1778                pleasure        small  117        0        1  \n",
              "1779                pleasure        small  117        0        1  \n",
              "\n",
              "[1780 rows x 7 columns]"
            ],
            "text/html": [
              "\n",
              "  <div id=\"df-842bb87e-5988-4d45-9cde-67845395a4b5\">\n",
              "    <div class=\"colab-df-container\">\n",
              "      <div>\n",
              "<style scoped>\n",
              "    .dataframe tbody tr th:only-of-type {\n",
              "        vertical-align: middle;\n",
              "    }\n",
              "\n",
              "    .dataframe tbody tr th {\n",
              "        vertical-align: top;\n",
              "    }\n",
              "\n",
              "    .dataframe thead th {\n",
              "        text-align: right;\n",
              "    }\n",
              "</style>\n",
              "<table border=\"1\" class=\"dataframe\">\n",
              "  <thead>\n",
              "    <tr style=\"text-align: right;\">\n",
              "      <th></th>\n",
              "      <th>EO_Files</th>\n",
              "      <th>IR_Files</th>\n",
              "      <th>FG_Labels</th>\n",
              "      <th>Basic_Labels</th>\n",
              "      <th>ID</th>\n",
              "      <th>isTrain</th>\n",
              "      <th>isNight</th>\n",
              "    </tr>\n",
              "  </thead>\n",
              "  <tbody>\n",
              "    <tr>\n",
              "      <th>0</th>\n",
              "      <td>jetski/jetski1/2014-06-25-13-56_00003-eo_img0_...</td>\n",
              "      <td>NaN</td>\n",
              "      <td>jetski</td>\n",
              "      <td>small</td>\n",
              "      <td>1</td>\n",
              "      <td>1</td>\n",
              "      <td>0</td>\n",
              "    </tr>\n",
              "    <tr>\n",
              "      <th>1</th>\n",
              "      <td>sailing-small-sails_up/sailboat3/2014-06-25-13...</td>\n",
              "      <td>NaN</td>\n",
              "      <td>sailing-small-sails_up</td>\n",
              "      <td>sailing</td>\n",
              "      <td>2</td>\n",
              "      <td>0</td>\n",
              "      <td>0</td>\n",
              "    </tr>\n",
              "    <tr>\n",
              "      <th>2</th>\n",
              "      <td>sailing-small-sails_up/sailboat4/2014-06-25-13...</td>\n",
              "      <td>NaN</td>\n",
              "      <td>sailing-small-sails_up</td>\n",
              "      <td>sailing</td>\n",
              "      <td>3</td>\n",
              "      <td>0</td>\n",
              "      <td>0</td>\n",
              "    </tr>\n",
              "    <tr>\n",
              "      <th>3</th>\n",
              "      <td>jetski/jetski1/2014-06-25-13-56_00006-eo_img0_...</td>\n",
              "      <td>NaN</td>\n",
              "      <td>jetski</td>\n",
              "      <td>small</td>\n",
              "      <td>1</td>\n",
              "      <td>1</td>\n",
              "      <td>0</td>\n",
              "    </tr>\n",
              "    <tr>\n",
              "      <th>4</th>\n",
              "      <td>sailing-small-sails_up/sailboat3/2014-06-25-13...</td>\n",
              "      <td>NaN</td>\n",
              "      <td>sailing-small-sails_up</td>\n",
              "      <td>sailing</td>\n",
              "      <td>2</td>\n",
              "      <td>0</td>\n",
              "      <td>0</td>\n",
              "    </tr>\n",
              "    <tr>\n",
              "      <th>...</th>\n",
              "      <td>...</td>\n",
              "      <td>...</td>\n",
              "      <td>...</td>\n",
              "      <td>...</td>\n",
              "      <td>...</td>\n",
              "      <td>...</td>\n",
              "      <td>...</td>\n",
              "    </tr>\n",
              "    <tr>\n",
              "      <th>1775</th>\n",
              "      <td>NaN</td>\n",
              "      <td>pleasure/pleasure31/2014-09-15-20-13_00010-ir_...</td>\n",
              "      <td>pleasure</td>\n",
              "      <td>small</td>\n",
              "      <td>116</td>\n",
              "      <td>0</td>\n",
              "      <td>1</td>\n",
              "    </tr>\n",
              "    <tr>\n",
              "      <th>1776</th>\n",
              "      <td>NaN</td>\n",
              "      <td>pleasure/pleasure31/2014-09-15-20-13_00015-ir_...</td>\n",
              "      <td>pleasure</td>\n",
              "      <td>small</td>\n",
              "      <td>116</td>\n",
              "      <td>0</td>\n",
              "      <td>1</td>\n",
              "    </tr>\n",
              "    <tr>\n",
              "      <th>1777</th>\n",
              "      <td>NaN</td>\n",
              "      <td>pleasure/pleasure31/2014-09-15-20-13_00020-ir_...</td>\n",
              "      <td>pleasure</td>\n",
              "      <td>small</td>\n",
              "      <td>116</td>\n",
              "      <td>0</td>\n",
              "      <td>1</td>\n",
              "    </tr>\n",
              "    <tr>\n",
              "      <th>1778</th>\n",
              "      <td>NaN</td>\n",
              "      <td>pleasure/pleasure30/2014-09-15-20-18_00020-ir_...</td>\n",
              "      <td>pleasure</td>\n",
              "      <td>small</td>\n",
              "      <td>117</td>\n",
              "      <td>0</td>\n",
              "      <td>1</td>\n",
              "    </tr>\n",
              "    <tr>\n",
              "      <th>1779</th>\n",
              "      <td>NaN</td>\n",
              "      <td>pleasure/pleasure30/2014-09-15-20-18_00025-ir_...</td>\n",
              "      <td>pleasure</td>\n",
              "      <td>small</td>\n",
              "      <td>117</td>\n",
              "      <td>0</td>\n",
              "      <td>1</td>\n",
              "    </tr>\n",
              "  </tbody>\n",
              "</table>\n",
              "<p>1780 rows × 7 columns</p>\n",
              "</div>\n",
              "      <button class=\"colab-df-convert\" onclick=\"convertToInteractive('df-842bb87e-5988-4d45-9cde-67845395a4b5')\"\n",
              "              title=\"Convert this dataframe to an interactive table.\"\n",
              "              style=\"display:none;\">\n",
              "        \n",
              "  <svg xmlns=\"http://www.w3.org/2000/svg\" height=\"24px\"viewBox=\"0 0 24 24\"\n",
              "       width=\"24px\">\n",
              "    <path d=\"M0 0h24v24H0V0z\" fill=\"none\"/>\n",
              "    <path d=\"M18.56 5.44l.94 2.06.94-2.06 2.06-.94-2.06-.94-.94-2.06-.94 2.06-2.06.94zm-11 1L8.5 8.5l.94-2.06 2.06-.94-2.06-.94L8.5 2.5l-.94 2.06-2.06.94zm10 10l.94 2.06.94-2.06 2.06-.94-2.06-.94-.94-2.06-.94 2.06-2.06.94z\"/><path d=\"M17.41 7.96l-1.37-1.37c-.4-.4-.92-.59-1.43-.59-.52 0-1.04.2-1.43.59L10.3 9.45l-7.72 7.72c-.78.78-.78 2.05 0 2.83L4 21.41c.39.39.9.59 1.41.59.51 0 1.02-.2 1.41-.59l7.78-7.78 2.81-2.81c.8-.78.8-2.07 0-2.86zM5.41 20L4 18.59l7.72-7.72 1.47 1.35L5.41 20z\"/>\n",
              "  </svg>\n",
              "      </button>\n",
              "      \n",
              "  <style>\n",
              "    .colab-df-container {\n",
              "      display:flex;\n",
              "      flex-wrap:wrap;\n",
              "      gap: 12px;\n",
              "    }\n",
              "\n",
              "    .colab-df-convert {\n",
              "      background-color: #E8F0FE;\n",
              "      border: none;\n",
              "      border-radius: 50%;\n",
              "      cursor: pointer;\n",
              "      display: none;\n",
              "      fill: #1967D2;\n",
              "      height: 32px;\n",
              "      padding: 0 0 0 0;\n",
              "      width: 32px;\n",
              "    }\n",
              "\n",
              "    .colab-df-convert:hover {\n",
              "      background-color: #E2EBFA;\n",
              "      box-shadow: 0px 1px 2px rgba(60, 64, 67, 0.3), 0px 1px 3px 1px rgba(60, 64, 67, 0.15);\n",
              "      fill: #174EA6;\n",
              "    }\n",
              "\n",
              "    [theme=dark] .colab-df-convert {\n",
              "      background-color: #3B4455;\n",
              "      fill: #D2E3FC;\n",
              "    }\n",
              "\n",
              "    [theme=dark] .colab-df-convert:hover {\n",
              "      background-color: #434B5C;\n",
              "      box-shadow: 0px 1px 3px 1px rgba(0, 0, 0, 0.15);\n",
              "      filter: drop-shadow(0px 1px 2px rgba(0, 0, 0, 0.3));\n",
              "      fill: #FFFFFF;\n",
              "    }\n",
              "  </style>\n",
              "\n",
              "      <script>\n",
              "        const buttonEl =\n",
              "          document.querySelector('#df-842bb87e-5988-4d45-9cde-67845395a4b5 button.colab-df-convert');\n",
              "        buttonEl.style.display =\n",
              "          google.colab.kernel.accessAllowed ? 'block' : 'none';\n",
              "\n",
              "        async function convertToInteractive(key) {\n",
              "          const element = document.querySelector('#df-842bb87e-5988-4d45-9cde-67845395a4b5');\n",
              "          const dataTable =\n",
              "            await google.colab.kernel.invokeFunction('convertToInteractive',\n",
              "                                                     [key], {});\n",
              "          if (!dataTable) return;\n",
              "\n",
              "          const docLinkHtml = 'Like what you see? Visit the ' +\n",
              "            '<a target=\"_blank\" href=https://colab.research.google.com/notebooks/data_table.ipynb>data table notebook</a>'\n",
              "            + ' to learn more about interactive tables.';\n",
              "          element.innerHTML = '';\n",
              "          dataTable['output_type'] = 'display_data';\n",
              "          await google.colab.output.renderOutput(dataTable, element);\n",
              "          const docLink = document.createElement('div');\n",
              "          docLink.innerHTML = docLinkHtml;\n",
              "          element.appendChild(docLink);\n",
              "        }\n",
              "      </script>\n",
              "    </div>\n",
              "  </div>\n",
              "  "
            ]
          },
          "metadata": {}
        }
      ]
    },
    {
      "cell_type": "markdown",
      "source": [
        "# Data preprocessing"
      ],
      "metadata": {
        "id": "69xyKAaNyUyl"
      }
    },
    {
      "cell_type": "code",
      "source": [
        "def import_data(path):\n",
        "  \"\"\"\n",
        "  Import images from path, resize and convert to tensor and append to list\n",
        "  Input-> path: '/content/drive/MyDrive/Colab Notebooks/Boat_Classification/VAIS/data/train_images/*'\n",
        "  Output-> Image list & Labels list\n",
        "  \"\"\"\n",
        "  images = []\n",
        "  labels = [] \n",
        "  for directory_path in glob.glob(os.path.join(path, '*')):\n",
        "    label = directory_path.split(\"\\\\\")[-1]\n",
        "    # print(label)\n",
        "    for img_path in glob.glob(os.path.join(directory_path, \"*.png\")):\n",
        "        img = cv2.imread(img_path, cv2.IMREAD_COLOR)       \n",
        "        img = cv2.resize(img, (Config.IMG_SIZE, Config.IMG_SIZE))\n",
        "        img = cv2.cvtColor(img, cv2.COLOR_RGB2BGR)\n",
        "        img = tf.convert_to_tensor(img)\n",
        "        images.append(img)\n",
        "        labels.append(label)\n",
        "\n",
        "  images = np.array(images)\n",
        "  labels = np.array(labels)\n",
        "\n",
        "  return images, labels"
      ],
      "metadata": {
        "id": "GqzhXTlnEwY2"
      },
      "execution_count": 3,
      "outputs": []
    },
    {
      "cell_type": "markdown",
      "source": [
        "### Encode labels"
      ],
      "metadata": {
        "id": "9iojdcJnW61S"
      }
    },
    {
      "cell_type": "code",
      "source": [
        "from sklearn import preprocessing\n",
        "\n",
        "def label_encoder(labels):\n",
        "  \"\"\"\n",
        "  Encoding labels\n",
        "  Input-> train and test labels lists ['small', 'cargo']\n",
        "  Output-> encoded labels [0, 1]\n",
        "  \"\"\"\n",
        "  le = preprocessing.LabelEncoder()\n",
        "  le.fit(labels)\n",
        "  labels_encoded = le.transform(labels)\n",
        "\n",
        "  return labels_encoded"
      ],
      "metadata": {
        "id": "S6joS6mjG7FV"
      },
      "execution_count": 4,
      "outputs": []
    },
    {
      "cell_type": "markdown",
      "source": [
        "## Import VI Data\n",
        "\n",
        "Import visiable data images"
      ],
      "metadata": {
        "id": "vl2Hb4OpQOu_"
      }
    },
    {
      "cell_type": "code",
      "source": [
        "train_vi_images, train_vi_labels = import_data(Config.folders['vi_train_images'])"
      ],
      "metadata": {
        "id": "O9s1zrQESmqf"
      },
      "execution_count": 5,
      "outputs": []
    },
    {
      "cell_type": "code",
      "source": [
        "len(train_vi_images)"
      ],
      "metadata": {
        "colab": {
          "base_uri": "https://localhost:8080/"
        },
        "id": "bEDYnYw_bo1o",
        "outputId": "b206ab8a-f655-4677-9e79-6ac6fa4d36f4"
      },
      "execution_count": null,
      "outputs": [
        {
          "output_type": "execute_result",
          "data": {
            "text/plain": [
              "840"
            ]
          },
          "metadata": {},
          "execution_count": 8
        }
      ]
    },
    {
      "cell_type": "code",
      "source": [
        "test_vi_images, test_vi_labels = import_data(Config.folders['vi_test_images'])"
      ],
      "metadata": {
        "id": "eo1_JnSMWi7x"
      },
      "execution_count": 6,
      "outputs": []
    },
    {
      "cell_type": "code",
      "source": [
        "len(test_vi_images)"
      ],
      "metadata": {
        "colab": {
          "base_uri": "https://localhost:8080/"
        },
        "id": "oOLWmUf-cfzX",
        "outputId": "4eddeef7-5447-4792-e2b1-097ce152a9ee"
      },
      "execution_count": null,
      "outputs": [
        {
          "output_type": "execute_result",
          "data": {
            "text/plain": [
              "735"
            ]
          },
          "metadata": {},
          "execution_count": 10
        }
      ]
    },
    {
      "cell_type": "code",
      "source": [
        "train_vi_labels_encoded = label_encoder(train_vi_labels)\n",
        "test_vi_labels_encoded = label_encoder(test_vi_labels)"
      ],
      "metadata": {
        "id": "vlPECJ0mW55f"
      },
      "execution_count": 7,
      "outputs": []
    },
    {
      "cell_type": "code",
      "source": [
        "train_vi_labels_encoded"
      ],
      "metadata": {
        "colab": {
          "base_uri": "https://localhost:8080/"
        },
        "id": "oL20pAey9uH0",
        "outputId": "f70226fd-51ca-4584-834b-cb9904543e29"
      },
      "execution_count": 25,
      "outputs": [
        {
          "output_type": "execute_result",
          "data": {
            "text/plain": [
              "array([4, 4, 4, 4, 4, 4, 4, 4, 4, 4, 4, 4, 4, 4, 4, 4, 4, 4, 4, 4, 4, 4,\n",
              "       4, 4, 4, 4, 4, 4, 4, 4, 4, 4, 4, 4, 4, 4, 4, 4, 4, 4, 4, 4, 4, 4,\n",
              "       4, 4, 4, 4, 4, 4, 4, 4, 4, 4, 4, 4, 4, 4, 4, 4, 4, 4, 4, 4, 4, 4,\n",
              "       4, 4, 4, 4, 4, 4, 4, 4, 4, 4, 4, 4, 4, 4, 4, 4, 4, 4, 4, 4, 4, 4,\n",
              "       4, 4, 4, 4, 4, 4, 4, 4, 4, 4, 4, 4, 4, 4, 4, 4, 4, 4, 4, 4, 4, 4,\n",
              "       4, 4, 4, 4, 4, 4, 4, 4, 4, 4, 4, 4, 4, 4, 4, 4, 4, 4, 4, 4, 4, 4,\n",
              "       4, 4, 4, 4, 4, 4, 4, 4, 4, 4, 4, 4, 4, 4, 4, 4, 4, 4, 4, 4, 4, 4,\n",
              "       4, 4, 4, 4, 4, 4, 4, 4, 4, 4, 4, 4, 4, 4, 4, 4, 4, 4, 4, 4, 4, 4,\n",
              "       4, 4, 4, 4, 4, 4, 4, 4, 4, 4, 4, 4, 4, 4, 4, 4, 4, 4, 4, 4, 4, 4,\n",
              "       4, 4, 4, 4, 4, 4, 4, 4, 4, 4, 4, 4, 4, 4, 4, 4, 4, 4, 4, 4, 4, 4,\n",
              "       4, 4, 4, 4, 4, 4, 4, 4, 4, 4, 4, 4, 4, 4, 4, 4, 4, 4, 4, 4, 4, 4,\n",
              "       4, 4, 4, 4, 4, 4, 4, 4, 4, 4, 4, 4, 4, 4, 4, 4, 4, 4, 4, 4, 4, 4,\n",
              "       4, 4, 4, 4, 4, 4, 4, 4, 4, 4, 4, 4, 4, 4, 4, 4, 4, 4, 4, 4, 4, 4,\n",
              "       4, 4, 4, 4, 4, 4, 4, 4, 4, 4, 4, 4, 4, 4, 4, 4, 4, 4, 4, 4, 4, 4,\n",
              "       4, 4, 4, 4, 4, 4, 4, 4, 4, 4, 4, 4, 4, 4, 4, 3, 3, 3, 3, 3, 3, 3,\n",
              "       3, 3, 3, 3, 3, 3, 3, 3, 3, 3, 3, 3, 3, 3, 3, 3, 3, 3, 3, 3, 3, 3,\n",
              "       3, 3, 3, 3, 3, 3, 3, 3, 3, 3, 3, 3, 3, 3, 3, 3, 3, 3, 3, 3, 3, 3,\n",
              "       3, 3, 3, 3, 3, 3, 3, 3, 3, 3, 3, 3, 3, 3, 3, 3, 3, 3, 3, 3, 3, 3,\n",
              "       3, 3, 3, 3, 3, 3, 3, 3, 3, 3, 3, 3, 3, 3, 3, 3, 3, 3, 3, 3, 3, 3,\n",
              "       3, 3, 3, 3, 3, 3, 3, 3, 3, 3, 3, 3, 3, 3, 3, 3, 3, 3, 3, 3, 3, 3,\n",
              "       3, 3, 3, 3, 3, 3, 3, 3, 3, 3, 3, 3, 3, 3, 3, 3, 3, 3, 3, 3, 3, 3,\n",
              "       3, 3, 3, 3, 3, 3, 3, 3, 3, 3, 3, 3, 3, 3, 3, 3, 3, 3, 3, 3, 3, 3,\n",
              "       3, 3, 3, 3, 3, 3, 3, 3, 3, 3, 3, 3, 3, 3, 3, 3, 3, 3, 3, 3, 3, 3,\n",
              "       3, 3, 3, 3, 3, 3, 3, 3, 3, 3, 3, 3, 3, 3, 3, 3, 3, 3, 3, 3, 5, 5,\n",
              "       5, 5, 5, 5, 5, 5, 5, 5, 5, 5, 5, 5, 5, 5, 5, 5, 5, 5, 5, 5, 5, 5,\n",
              "       5, 5, 5, 5, 5, 5, 5, 5, 5, 5, 5, 5, 5, 0, 0, 0, 0, 0, 0, 0, 0, 0,\n",
              "       0, 0, 0, 0, 0, 0, 0, 0, 0, 0, 0, 0, 0, 0, 0, 0, 0, 0, 0, 0, 0, 0,\n",
              "       0, 0, 0, 0, 0, 0, 0, 0, 0, 0, 0, 0, 0, 0, 0, 0, 0, 0, 0, 0, 0, 0,\n",
              "       0, 0, 0, 0, 0, 0, 0, 0, 0, 0, 0, 0, 0, 0, 0, 0, 0, 0, 0, 0, 0, 0,\n",
              "       0, 0, 0, 0, 0, 0, 0, 0, 0, 0, 0, 0, 0, 0, 0, 0, 0, 0, 0, 0, 0, 0,\n",
              "       0, 0, 0, 1, 1, 1, 1, 1, 1, 1, 1, 1, 1, 1, 1, 1, 1, 1, 1, 1, 1, 1,\n",
              "       1, 1, 1, 1, 1, 1, 1, 1, 1, 1, 1, 1, 1, 1, 1, 1, 1, 1, 1, 1, 1, 1,\n",
              "       1, 1, 1, 1, 1, 1, 1, 1, 1, 1, 1, 1, 1, 1, 1, 1, 1, 1, 1, 1, 1, 1,\n",
              "       1, 1, 1, 1, 1, 1, 1, 1, 1, 1, 1, 1, 1, 1, 1, 1, 1, 1, 1, 1, 1, 1,\n",
              "       1, 1, 1, 1, 1, 1, 1, 1, 1, 1, 1, 1, 1, 1, 2, 2, 2, 2, 2, 2, 2, 2,\n",
              "       2, 2, 2, 2, 2, 2, 2, 2, 2, 2, 2, 2, 2, 2, 2, 2, 2, 2, 2, 2, 2, 2,\n",
              "       2, 2, 2, 2, 2, 2, 2, 2, 2, 2, 2, 2, 2, 2, 2, 2, 2, 2, 2, 2, 2, 2,\n",
              "       2, 2, 2, 2, 2, 2, 2, 2, 2, 2, 2, 2, 2, 2, 2, 2, 2, 2, 2, 2, 2, 2,\n",
              "       2, 2, 2, 2])"
            ]
          },
          "metadata": {},
          "execution_count": 25
        }
      ]
    },
    {
      "cell_type": "code",
      "source": [
        "#Split data into test and train datasets\n",
        "x_vi_train, y_vi_train, x_vi_test, y_vi_test = train_vi_images, train_vi_labels_encoded, test_vi_images, test_vi_labels_encoded"
      ],
      "metadata": {
        "id": "tmRS74r2XrJP"
      },
      "execution_count": 8,
      "outputs": []
    },
    {
      "cell_type": "code",
      "source": [
        "ax = sns.countplot(x='Basic_Labels', data=train_data, hue='isTrain')\n",
        "for p in ax.patches:\n",
        "    ax.annotate(f'\\n{p.get_height()}', (p.get_x()+0.2, p.get_height()), ha='center', va='top', color='white', size=10)"
      ],
      "metadata": {
        "colab": {
          "base_uri": "https://localhost:8080/",
          "height": 280
        },
        "id": "--gTsYXbAPNA",
        "outputId": "3e2f64e8-4f06-42b8-e6c0-b3eb4590457c"
      },
      "execution_count": 101,
      "outputs": [
        {
          "output_type": "display_data",
          "data": {
            "text/plain": [
              "<Figure size 432x288 with 1 Axes>"
            ],
            "image/png": "[encoded data removed]"
          },
          "metadata": {
            "needs_background": "light"
          }
        }
      ]
    },
    {
      "cell_type": "code",
      "source": [
        "lbl_count = train_data['Basic_Labels'].value_counts()\n",
        "lbl_count"
      ],
      "metadata": {
        "id": "aaw4Z60wENnx",
        "outputId": "085db886-b54a-4281-bf31-f9d682033ec0",
        "colab": {
          "base_uri": "https://localhost:8080/"
        }
      },
      "execution_count": 89,
      "outputs": [
        {
          "output_type": "execute_result",
          "data": {
            "text/plain": [
              "small           687\n",
              "sailing         428\n",
              "cargo           208\n",
              "medium-other    199\n",
              "passenger       152\n",
              "tug             106\n",
              "Name: Basic_Labels, dtype: int64"
            ]
          },
          "metadata": {},
          "execution_count": 89
        }
      ]
    },
    {
      "cell_type": "markdown",
      "source": [
        "## Import IR Data\n",
        "\n",
        "Import visiable data images"
      ],
      "metadata": {
        "id": "Ke9TBJ0p42Ic"
      }
    },
    {
      "cell_type": "code",
      "source": [
        "train_ir_images, train_ir_labels = import_data(Config.folders['ir_train_images'])"
      ],
      "metadata": {
        "id": "BMyE6RLm42Ic"
      },
      "execution_count": 21,
      "outputs": []
    },
    {
      "cell_type": "code",
      "source": [
        "len(train_ir_images)"
      ],
      "metadata": {
        "colab": {
          "base_uri": "https://localhost:8080/"
        },
        "outputId": "0bbaad69-0722-4e71-af40-caaed682268c",
        "id": "qyCuhKou42Id"
      },
      "execution_count": 28,
      "outputs": [
        {
          "output_type": "execute_result",
          "data": {
            "text/plain": [
              "532"
            ]
          },
          "metadata": {},
          "execution_count": 28
        }
      ]
    },
    {
      "cell_type": "code",
      "source": [
        "test_ir_images, test_ir_labels = import_data(Config.folders['ir_test_images'])"
      ],
      "metadata": {
        "id": "CIj0SsNQ42Id"
      },
      "execution_count": 22,
      "outputs": []
    },
    {
      "cell_type": "code",
      "source": [
        "len(test_ir_images)"
      ],
      "metadata": {
        "colab": {
          "base_uri": "https://localhost:8080/"
        },
        "outputId": "f0ff4078-423f-4221-de7c-cc9635d584a2",
        "id": "_tIDDqRm42Id"
      },
      "execution_count": 30,
      "outputs": [
        {
          "output_type": "execute_result",
          "data": {
            "text/plain": [
              "696"
            ]
          },
          "metadata": {},
          "execution_count": 30
        }
      ]
    },
    {
      "cell_type": "markdown",
      "source": [
        "### Encode labels"
      ],
      "metadata": {
        "id": "C_2MdPGT42Ie"
      }
    },
    {
      "cell_type": "code",
      "source": [
        "train_ir_labels_encoded = label_encoder(train_ir_labels)\n",
        "test_ir_labels_encoded = label_encoder(test_ir_labels)"
      ],
      "metadata": {
        "id": "nES2Xtvd42Ig"
      },
      "execution_count": 23,
      "outputs": []
    },
    {
      "cell_type": "code",
      "source": [
        "#Split data into test and train datasets\n",
        "x_ir_train, y_ir_train, x_ir_test, y_ir_test = train_ir_images, train_ir_labels_encoded, test_ir_images, test_ir_labels_encoded"
      ],
      "metadata": {
        "id": "jYH-K8ld42Ih"
      },
      "execution_count": 24,
      "outputs": []
    },
    {
      "cell_type": "markdown",
      "source": [
        "## Import All Data\n",
        "\n",
        "Import visiable data images"
      ],
      "metadata": {
        "id": "erli33D6coBS"
      }
    },
    {
      "cell_type": "code",
      "source": [
        "train_all_images, train_all_labels = import_data(Config.folders['all_train_images'])"
      ],
      "metadata": {
        "id": "WcjkHco0coBU"
      },
      "execution_count": null,
      "outputs": []
    },
    {
      "cell_type": "code",
      "source": [
        "len(train_all_images)"
      ],
      "metadata": {
        "colab": {
          "base_uri": "https://localhost:8080/"
        },
        "outputId": "9b835c42-7cd4-42ca-8182-56abb24af6ca",
        "id": "7SKKaN-AcoBW"
      },
      "execution_count": null,
      "outputs": [
        {
          "output_type": "execute_result",
          "data": {
            "text/plain": [
              "1372"
            ]
          },
          "metadata": {},
          "execution_count": 143
        }
      ]
    },
    {
      "cell_type": "code",
      "source": [
        "test_all_images, test_all_labels = import_data(Config.folders['all_test_images'])"
      ],
      "metadata": {
        "id": "aClFNkwlcoBY"
      },
      "execution_count": null,
      "outputs": []
    },
    {
      "cell_type": "code",
      "source": [
        "len(test_all_images)"
      ],
      "metadata": {
        "colab": {
          "base_uri": "https://localhost:8080/"
        },
        "outputId": "0d247e22-ce01-45ad-e570-6b3fee0caa5b",
        "id": "s_Ok8riPcoBa"
      },
      "execution_count": null,
      "outputs": [
        {
          "output_type": "execute_result",
          "data": {
            "text/plain": [
              "1431"
            ]
          },
          "metadata": {},
          "execution_count": 145
        }
      ]
    },
    {
      "cell_type": "code",
      "source": [
        "train_all_labels_encoded = label_encoder(train_all_labels)\n",
        "test_all_labels_encoded = label_encoder(test_all_labels)"
      ],
      "metadata": {
        "id": "xc0zS4jGdIDt"
      },
      "execution_count": null,
      "outputs": []
    },
    {
      "cell_type": "code",
      "source": [
        "#Split data into test and train datasets\n",
        "x_all_train, y_all_train, x_all_test, y_all_test = train_all_images, train_all_labels_encoded, test_all_images, test_all_labels_encoded"
      ],
      "metadata": {
        "id": "A_ub_-rbdIDu"
      },
      "execution_count": null,
      "outputs": []
    },
    {
      "cell_type": "markdown",
      "source": [
        "# Pretrained Models Train"
      ],
      "metadata": {
        "id": "T5NkNLAgsVLZ"
      }
    },
    {
      "cell_type": "code",
      "source": [
        "from keras.preprocessing.image import ImageDataGenerator\n",
        "\n",
        "def data_generator(x, y):\n",
        "  \"\"\n",
        "  \"\"\n",
        "  train_datagen = ImageDataGenerator(\n",
        "    width_shift_range=0.2,\n",
        "    zoom_range = 0.2,\n",
        "    horizontal_flip = True)\n",
        "  train_datagen.fit(x)\n",
        "\n",
        "  train_generator = train_datagen.flow(\n",
        "    x,\n",
        "    y,\n",
        "    batch_size = Config.BATCH_SIZE)\n",
        "  \n",
        "  return train_generator"
      ],
      "metadata": {
        "id": "7FBsMpiBPg6q"
      },
      "execution_count": null,
      "outputs": []
    },
    {
      "cell_type": "code",
      "source": [
        "def cnn_model_train(model, data_generator, x_test, y_test):\n",
        "  \"\"\n",
        "  \"\"\n",
        "  start = time.time()\n",
        "\n",
        "  model.compile(optimizer='adam', loss='sparse_categorical_crossentropy', metrics=['accuracy'])\n",
        "  history = model.fit(\n",
        "        data_generator,\n",
        "        steps_per_epoch = 10,\n",
        "        epochs = Config.N_EPOCH,\n",
        "        validation_data = (x_test, y_test)\n",
        "        )\n",
        "  \n",
        "  end = time.time()\n",
        "  \n",
        "  print(f'Train time {end - start} seconds')\n",
        "  return history"
      ],
      "metadata": {
        "id": "847aP4b2P8j0"
      },
      "execution_count": null,
      "outputs": []
    },
    {
      "cell_type": "code",
      "source": [
        "def plot_acc_loss(model_history):\n",
        "  \"\"\"\n",
        "  Plot the training and validation accuracy and loss at each epoch\n",
        "  input-> model_hisotry: model.history (model after fitting)\n",
        "  output-> plot of training and validtion acc and loss\n",
        "  \"\"\"\n",
        "  loss = model_history.history['loss']\n",
        "  val_loss = model_history.history['val_loss']\n",
        "  epochs = range(1, len(loss) + 1)\n",
        "  plt.plot(epochs, loss, 'y', label='Training loss')\n",
        "  plt.plot(epochs, val_loss, 'r', label='Validation loss')\n",
        "  plt.title('Training and validation loss')\n",
        "  plt.xlabel('Epochs')\n",
        "  plt.ylabel('Loss')\n",
        "  plt.legend()\n",
        "  plt.show()\n",
        "\n",
        "\n",
        "  acc = model_history.history['accuracy']\n",
        "  val_acc = model_history.history['val_accuracy']\n",
        "  plt.plot(epochs, acc, 'y', label='Training acc')\n",
        "  plt.plot(epochs, val_acc, 'r', label='Validation acc')\n",
        "  plt.title('Training and validation accuracy')\n",
        "  plt.xlabel('Epochs')\n",
        "  plt.ylabel('Accuracy')\n",
        "  plt.legend()\n",
        "  plt.show()\n",
        "\n",
        "  print(f'train acc: {mean(acc):.3f}, train loss: {mean(loss):.3f}, val acc: {mean(val_acc):.3f}, vall loss:{mean(val_loss):.3f}')\n"
      ],
      "metadata": {
        "id": "Wvx-9iQSJF5i"
      },
      "execution_count": null,
      "outputs": []
    },
    {
      "cell_type": "code",
      "source": [
        "train_vi_generator = data_generator(x_vi_train, y_vi_train)"
      ],
      "metadata": {
        "id": "5_PyS5Z87104"
      },
      "execution_count": null,
      "outputs": []
    },
    {
      "cell_type": "code",
      "source": [
        "train_ir_generator = data_generator(x_ir_train, y_ir_train)"
      ],
      "metadata": {
        "id": "gNTLalZP70Tr"
      },
      "execution_count": null,
      "outputs": []
    },
    {
      "cell_type": "markdown",
      "source": [
        "## ResNet152"
      ],
      "metadata": {
        "id": "B1F7gTxY0QH6"
      }
    },
    {
      "cell_type": "markdown",
      "source": [
        "### VI Images"
      ],
      "metadata": {
        "id": "V88XCtgV6pDO"
      }
    },
    {
      "cell_type": "code",
      "source": [
        "resnet152_vi_model = ResNet152(weights='imagenet', input_shape=(Config.IMG_SIZE, Config.IMG_SIZE, 3))"
      ],
      "metadata": {
        "id": "0G2xohv-LdBv"
      },
      "execution_count": null,
      "outputs": []
    },
    {
      "cell_type": "code",
      "source": [
        "# train_vi_generator = data_generator(x_vi_train, y_vi_train)"
      ],
      "metadata": {
        "id": "fxx2QXs2Yaas"
      },
      "execution_count": null,
      "outputs": []
    },
    {
      "cell_type": "code",
      "source": [
        "history_resnet152_vi = cnn_model_train(resnet152_vi_model, train_vi_generator, x_vi_test, y_vi_test)"
      ],
      "metadata": {
        "colab": {
          "base_uri": "https://localhost:8080/"
        },
        "id": "1XqA3RYFYq-n",
        "outputId": "8a18679d-85e1-4ac5-fac8-de33082e7f87"
      },
      "execution_count": null,
      "outputs": [
        {
          "output_type": "stream",
          "name": "stdout",
          "text": [
            "Epoch 1/30\n",
            "10/10 [==============================] - 40s 1s/step - loss: 4.0246 - accuracy: 0.4079 - val_loss: 4848.4570 - val_accuracy: 0.0000e+00\n",
            "Epoch 2/30\n",
            "10/10 [==============================] - 9s 905ms/step - loss: 1.9795 - accuracy: 0.4803 - val_loss: 18745108.0000 - val_accuracy: 0.0000e+00\n",
            "Epoch 3/30\n",
            "10/10 [==============================] - 9s 926ms/step - loss: 1.6243 - accuracy: 0.4563 - val_loss: 24902808.0000 - val_accuracy: 0.0000e+00\n",
            "Epoch 4/30\n",
            "10/10 [==============================] - 9s 930ms/step - loss: 1.2640 - accuracy: 0.5437 - val_loss: 218244.2031 - val_accuracy: 0.2544\n",
            "Epoch 5/30\n",
            "10/10 [==============================] - 9s 936ms/step - loss: 1.0393 - accuracy: 0.6125 - val_loss: 4590.1279 - val_accuracy: 0.2544\n",
            "Epoch 6/30\n",
            "10/10 [==============================] - 9s 937ms/step - loss: 1.2274 - accuracy: 0.5875 - val_loss: 559.5515 - val_accuracy: 0.2449\n",
            "Epoch 7/30\n",
            "10/10 [==============================] - 9s 925ms/step - loss: 1.0201 - accuracy: 0.6250 - val_loss: 181.1695 - val_accuracy: 0.2544\n",
            "Epoch 8/30\n",
            "10/10 [==============================] - 9s 947ms/step - loss: 1.0962 - accuracy: 0.6187 - val_loss: 35.1818 - val_accuracy: 0.2544\n",
            "Epoch 9/30\n",
            "10/10 [==============================] - 9s 948ms/step - loss: 0.8492 - accuracy: 0.7188 - val_loss: 44.6265 - val_accuracy: 0.2544\n",
            "Epoch 10/30\n",
            "10/10 [==============================] - 9s 953ms/step - loss: 0.8860 - accuracy: 0.6875 - val_loss: 5.2614 - val_accuracy: 0.3007\n",
            "Epoch 11/30\n",
            "10/10 [==============================] - 9s 958ms/step - loss: 0.7611 - accuracy: 0.7688 - val_loss: 3.6876 - val_accuracy: 0.2286\n",
            "Epoch 12/30\n",
            "10/10 [==============================] - 9s 978ms/step - loss: 0.8179 - accuracy: 0.6842 - val_loss: 3.4530 - val_accuracy: 0.2327\n",
            "Epoch 13/30\n",
            "10/10 [==============================] - 9s 966ms/step - loss: 1.0101 - accuracy: 0.6687 - val_loss: 2.3266 - val_accuracy: 0.2748\n",
            "Epoch 14/30\n",
            "10/10 [==============================] - 9s 971ms/step - loss: 0.7209 - accuracy: 0.7625 - val_loss: 2.1236 - val_accuracy: 0.3728\n",
            "Epoch 15/30\n",
            "10/10 [==============================] - 9s 971ms/step - loss: 0.7380 - accuracy: 0.7750 - val_loss: 2.3433 - val_accuracy: 0.3769\n",
            "Epoch 16/30\n",
            "10/10 [==============================] - 9s 975ms/step - loss: 0.6694 - accuracy: 0.7875 - val_loss: 3.3569 - val_accuracy: 0.4830\n",
            "Epoch 17/30\n",
            "10/10 [==============================] - 9s 978ms/step - loss: 0.6805 - accuracy: 0.7750 - val_loss: 3.2889 - val_accuracy: 0.5048\n",
            "Epoch 18/30\n",
            "10/10 [==============================] - 9s 983ms/step - loss: 0.7611 - accuracy: 0.7188 - val_loss: 4.0996 - val_accuracy: 0.3673\n",
            "Epoch 19/30\n",
            "10/10 [==============================] - 9s 983ms/step - loss: 0.6672 - accuracy: 0.7812 - val_loss: 2.2227 - val_accuracy: 0.4122\n",
            "Epoch 20/30\n",
            "10/10 [==============================] - 10s 1s/step - loss: 0.6250 - accuracy: 0.8000 - val_loss: 2.3261 - val_accuracy: 0.5075\n",
            "Epoch 21/30\n",
            "10/10 [==============================] - 9s 963ms/step - loss: 0.4738 - accuracy: 0.8618 - val_loss: 3.2964 - val_accuracy: 0.3769\n",
            "Epoch 22/30\n",
            "10/10 [==============================] - 10s 1s/step - loss: 0.4828 - accuracy: 0.8188 - val_loss: 3.0735 - val_accuracy: 0.4830\n",
            "Epoch 23/30\n",
            "10/10 [==============================] - 9s 986ms/step - loss: 0.5223 - accuracy: 0.8062 - val_loss: 2.3381 - val_accuracy: 0.4367\n",
            "Epoch 24/30\n",
            "10/10 [==============================] - 9s 984ms/step - loss: 0.5257 - accuracy: 0.8188 - val_loss: 3.0815 - val_accuracy: 0.2503\n",
            "Epoch 25/30\n",
            "10/10 [==============================] - 9s 968ms/step - loss: 0.5632 - accuracy: 0.8092 - val_loss: 2.4702 - val_accuracy: 0.3701\n",
            "Epoch 26/30\n",
            "10/10 [==============================] - 9s 991ms/step - loss: 0.6128 - accuracy: 0.7437 - val_loss: 3.2467 - val_accuracy: 0.4517\n",
            "Epoch 27/30\n",
            "10/10 [==============================] - 10s 991ms/step - loss: 0.5670 - accuracy: 0.8313 - val_loss: 3.6335 - val_accuracy: 0.5578\n",
            "Epoch 28/30\n",
            "10/10 [==============================] - 10s 996ms/step - loss: 0.3011 - accuracy: 0.9187 - val_loss: 5.4315 - val_accuracy: 0.5782\n",
            "Epoch 29/30\n",
            "10/10 [==============================] - 9s 977ms/step - loss: 0.5117 - accuracy: 0.8421 - val_loss: 5.5606 - val_accuracy: 0.5075\n",
            "Epoch 30/30\n",
            "10/10 [==============================] - 10s 1s/step - loss: 0.3300 - accuracy: 0.8750 - val_loss: 1.8672 - val_accuracy: 0.4680\n",
            "Train time 336.9373605251312 seconds\n"
          ]
        }
      ]
    },
    {
      "cell_type": "code",
      "source": [
        "plot_acc_loss(history_resnet152_vi)"
      ],
      "metadata": {
        "colab": {
          "base_uri": "https://localhost:8080/",
          "height": 591
        },
        "id": "qcfy-6o5Y8a3",
        "outputId": "80994871-0aca-45f9-a632-ee052013ad88"
      },
      "execution_count": null,
      "outputs": [
        {
          "output_type": "display_data",
          "data": {
            "text/plain": [
              "<Figure size 432x288 with 1 Axes>"
            ],
            "image/png": "[encoded data removed]"
          },
          "metadata": {
            "needs_background": "light"
          }
        },
        {
          "output_type": "display_data",
          "data": {
            "text/plain": [
              "<Figure size 432x288 with 1 Axes>"
            ],
            "image/png": "[encoded data removed]"
          },
          "metadata": {
            "needs_background": "light"
          }
        },
        {
          "output_type": "stream",
          "name": "stdout",
          "text": [
            "train acc: 0.720, train loss: 0.912, val acc: 0.335, vall loss:1462549.594\n"
          ]
        }
      ]
    },
    {
      "cell_type": "markdown",
      "source": [
        "### IR Images"
      ],
      "metadata": {
        "id": "jO4xlalv6rxX"
      }
    },
    {
      "cell_type": "code",
      "source": [
        "resnet152_ir_model = ResNet152(weights='imagenet', input_shape=(Config.IMG_SIZE, Config.IMG_SIZE, 3))"
      ],
      "metadata": {
        "id": "8Goq_OgU7c9J"
      },
      "execution_count": null,
      "outputs": []
    },
    {
      "cell_type": "code",
      "source": [
        "history_resnet152_ir = cnn_model_train(resnet152_ir_model, train_ir_generator, x_ir_test, y_ir_test)"
      ],
      "metadata": {
        "colab": {
          "base_uri": "https://localhost:8080/"
        },
        "id": "RgXJvH5n7c9L",
        "outputId": "dacd9893-d1e7-42f0-aabe-4cc457f97375"
      },
      "execution_count": null,
      "outputs": [
        {
          "output_type": "stream",
          "name": "stdout",
          "text": [
            "Epoch 1/30\n",
            "10/10 [==============================] - 28s 1s/step - loss: 4.2408 - accuracy: 0.2500 - val_loss: 426783.3438 - val_accuracy: 0.0000e+00\n",
            "Epoch 2/30\n",
            "10/10 [==============================] - 10s 1s/step - loss: 1.8418 - accuracy: 0.3243 - val_loss: 5080735.5000 - val_accuracy: 0.0000e+00\n",
            "Epoch 3/30\n",
            "10/10 [==============================] - 9s 945ms/step - loss: 1.7860 - accuracy: 0.3750 - val_loss: 124167.1641 - val_accuracy: 0.3233\n",
            "Epoch 4/30\n",
            "10/10 [==============================] - 9s 950ms/step - loss: 1.5800 - accuracy: 0.4625 - val_loss: 4039.8865 - val_accuracy: 0.3233\n",
            "Epoch 5/30\n",
            "10/10 [==============================] - 9s 949ms/step - loss: 1.3037 - accuracy: 0.4938 - val_loss: 151.1375 - val_accuracy: 0.2744\n",
            "Epoch 6/30\n",
            "10/10 [==============================] - 9s 953ms/step - loss: 1.2238 - accuracy: 0.5813 - val_loss: 4.8539 - val_accuracy: 0.1997\n",
            "Epoch 7/30\n",
            "10/10 [==============================] - 9s 952ms/step - loss: 1.2464 - accuracy: 0.5500 - val_loss: 82.5428 - val_accuracy: 0.3032\n",
            "Epoch 8/30\n",
            "10/10 [==============================] - 9s 935ms/step - loss: 1.2381 - accuracy: 0.5338 - val_loss: 21.7056 - val_accuracy: 0.1394\n",
            "Epoch 9/30\n",
            "10/10 [==============================] - 9s 929ms/step - loss: 1.2501 - accuracy: 0.5473 - val_loss: 13.4827 - val_accuracy: 0.1968\n",
            "Epoch 10/30\n",
            "10/10 [==============================] - 9s 937ms/step - loss: 1.3387 - accuracy: 0.5270 - val_loss: 6.8183 - val_accuracy: 0.1394\n",
            "Epoch 11/30\n",
            "10/10 [==============================] - 9s 965ms/step - loss: 1.0430 - accuracy: 0.6250 - val_loss: 6.1690 - val_accuracy: 0.2126\n",
            "Epoch 12/30\n",
            "10/10 [==============================] - 9s 965ms/step - loss: 1.1116 - accuracy: 0.6500 - val_loss: 19.1977 - val_accuracy: 0.3319\n",
            "Epoch 13/30\n",
            "10/10 [==============================] - 9s 970ms/step - loss: 1.2260 - accuracy: 0.5188 - val_loss: 3.8178 - val_accuracy: 0.3807\n",
            "Epoch 14/30\n",
            "10/10 [==============================] - 9s 970ms/step - loss: 0.9832 - accuracy: 0.6750 - val_loss: 3.4706 - val_accuracy: 0.3721\n",
            "Epoch 15/30\n",
            "10/10 [==============================] - 9s 972ms/step - loss: 0.8843 - accuracy: 0.7125 - val_loss: 3.4423 - val_accuracy: 0.3578\n",
            "Epoch 16/30\n",
            "10/10 [==============================] - 9s 943ms/step - loss: 0.8897 - accuracy: 0.6824 - val_loss: 13.9346 - val_accuracy: 0.3247\n",
            "Epoch 17/30\n",
            "10/10 [==============================] - 9s 971ms/step - loss: 1.0281 - accuracy: 0.6687 - val_loss: 10.1002 - val_accuracy: 0.2227\n",
            "Epoch 18/30\n",
            "10/10 [==============================] - 9s 968ms/step - loss: 1.1026 - accuracy: 0.6000 - val_loss: 28.1414 - val_accuracy: 0.3075\n",
            "Epoch 19/30\n",
            "10/10 [==============================] - 9s 972ms/step - loss: 1.1264 - accuracy: 0.6313 - val_loss: 3.9419 - val_accuracy: 0.2428\n",
            "Epoch 20/30\n",
            "10/10 [==============================] - 9s 972ms/step - loss: 0.9798 - accuracy: 0.6375 - val_loss: 2.6545 - val_accuracy: 0.3089\n",
            "Epoch 21/30\n",
            "10/10 [==============================] - 9s 973ms/step - loss: 0.8113 - accuracy: 0.7312 - val_loss: 3.7116 - val_accuracy: 0.3247\n",
            "Epoch 22/30\n",
            "10/10 [==============================] - 9s 951ms/step - loss: 0.7367 - accuracy: 0.7500 - val_loss: 5.1280 - val_accuracy: 0.3190\n",
            "Epoch 23/30\n",
            "10/10 [==============================] - 9s 949ms/step - loss: 1.0140 - accuracy: 0.6689 - val_loss: 2.4853 - val_accuracy: 0.3075\n",
            "Epoch 24/30\n",
            "10/10 [==============================] - 9s 973ms/step - loss: 0.9352 - accuracy: 0.7125 - val_loss: 5.0674 - val_accuracy: 0.1796\n",
            "Epoch 25/30\n",
            "10/10 [==============================] - 9s 973ms/step - loss: 0.8913 - accuracy: 0.6812 - val_loss: 4.5831 - val_accuracy: 0.1020\n",
            "Epoch 26/30\n",
            "10/10 [==============================] - 9s 973ms/step - loss: 0.9701 - accuracy: 0.6938 - val_loss: 2.7608 - val_accuracy: 0.2773\n",
            "Epoch 27/30\n",
            "10/10 [==============================] - 9s 977ms/step - loss: 0.7018 - accuracy: 0.8000 - val_loss: 4.2283 - val_accuracy: 0.4224\n",
            "Epoch 28/30\n",
            "10/10 [==============================] - 9s 978ms/step - loss: 0.7835 - accuracy: 0.7375 - val_loss: 2.5748 - val_accuracy: 0.4986\n",
            "Epoch 29/30\n",
            "10/10 [==============================] - 9s 975ms/step - loss: 0.7781 - accuracy: 0.7375 - val_loss: 5.6635 - val_accuracy: 0.3793\n",
            "Epoch 30/30\n",
            "10/10 [==============================] - 9s 941ms/step - loss: 0.6814 - accuracy: 0.7838 - val_loss: 12.0005 - val_accuracy: 0.1911\n",
            "Train time 319.029559135437 seconds\n"
          ]
        }
      ]
    },
    {
      "cell_type": "code",
      "source": [
        "plot_acc_loss(history_resnet152_ir)"
      ],
      "metadata": {
        "colab": {
          "base_uri": "https://localhost:8080/",
          "height": 591
        },
        "id": "Px4xm1U87c9L",
        "outputId": "3475604d-9072-4701-a781-987487399b56"
      },
      "execution_count": null,
      "outputs": [
        {
          "output_type": "display_data",
          "data": {
            "text/plain": [
              "<Figure size 432x288 with 1 Axes>"
            ],
            "image/png": "[encoded data removed]"
          },
          "metadata": {
            "needs_background": "light"
          }
        },
        {
          "output_type": "display_data",
          "data": {
            "text/plain": [
              "<Figure size 432x288 with 1 Axes>"
            ],
            "image/png": "[encoded data removed]"
          },
          "metadata": {
            "needs_background": "light"
          }
        },
        {
          "output_type": "stream",
          "name": "stdout",
          "text": [
            "train acc: 0.611, train loss: 1.191, val acc: 0.265, vall loss:187871.650\n"
          ]
        }
      ]
    },
    {
      "cell_type": "markdown",
      "source": [
        "## ResNet50"
      ],
      "metadata": {
        "id": "JDJE9EILxWO1"
      }
    },
    {
      "cell_type": "markdown",
      "source": [
        "### VI Images"
      ],
      "metadata": {
        "id": "lT11rOaR7uiB"
      }
    },
    {
      "cell_type": "code",
      "source": [
        "resnet50_vi_model = ResNet50(weights='imagenet', input_shape=(Config.IMG_SIZE, Config.IMG_SIZE, 3))"
      ],
      "metadata": {
        "id": "tJSI-RFk8FPm"
      },
      "execution_count": null,
      "outputs": []
    },
    {
      "cell_type": "code",
      "source": [
        "from tensorflow.keras.layers import AveragePooling2D\n",
        "from tensorflow.keras.layers import Dropout\n",
        "from tensorflow.keras.layers import Flatten\n",
        "from tensorflow.keras.layers import Dense\n",
        "from tensorflow.keras.layers import Input\n",
        "from tensorflow.keras.models import Model\n",
        "from tensorflow.keras.optimizers import Adam"
      ],
      "metadata": {
        "id": "xK7Ko-_imaF-"
      },
      "execution_count": null,
      "outputs": []
    },
    {
      "cell_type": "code",
      "source": [
        "baseModel = ResNet50(weights='imagenet', input_shape=(Config.IMG_SIZE, Config.IMG_SIZE, 3), include_top=False)"
      ],
      "metadata": {
        "id": "rocyFm_lmHyx"
      },
      "execution_count": null,
      "outputs": []
    },
    {
      "cell_type": "code",
      "source": [
        "headModel = baseModel.output\n",
        "headModel = AveragePooling2D(pool_size=(7, 7))(headModel)\n",
        "headModel = Flatten(name=\"flatten\")(headModel)\n",
        "headModel = Dense(256, activation=\"relu\")(headModel)\n",
        "headModel = Dropout(0.5)(headModel)\n",
        "headModel = Dense(len(Config.CLASSES), activation=\"softmax\")(headModel)"
      ],
      "metadata": {
        "id": "h1e9eHs2l_xl"
      },
      "execution_count": null,
      "outputs": []
    },
    {
      "cell_type": "code",
      "source": [
        "model = Model(inputs=baseModel.input, outputs=headModel)"
      ],
      "metadata": {
        "id": "q6OaGbBwmokX"
      },
      "execution_count": null,
      "outputs": []
    },
    {
      "cell_type": "code",
      "source": [
        "history_resnet50_vi = cnn_model_train(model, train_vi_generator, x_vi_test, y_vi_test)"
      ],
      "metadata": {
        "colab": {
          "base_uri": "https://localhost:8080/"
        },
        "id": "KjpeMABy8FPo",
        "outputId": "bf3ff173-37e4-4d07-8770-b9d36b7c4fcd"
      },
      "execution_count": null,
      "outputs": [
        {
          "output_type": "stream",
          "name": "stdout",
          "text": [
            "Epoch 1/30\n",
            "10/10 [==============================] - 12s 581ms/step - loss: 1.3372 - accuracy: 0.5938 - val_loss: 7.8236 - val_accuracy: 0.3660\n",
            "Epoch 2/30\n",
            "10/10 [==============================] - 4s 447ms/step - loss: 1.2938 - accuracy: 0.5395 - val_loss: 113.5277 - val_accuracy: 0.4204\n",
            "Epoch 3/30\n",
            "10/10 [==============================] - 5s 477ms/step - loss: 1.1267 - accuracy: 0.6687 - val_loss: 123.1658 - val_accuracy: 0.4204\n",
            "Epoch 4/30\n",
            "10/10 [==============================] - 5s 476ms/step - loss: 0.9186 - accuracy: 0.7250 - val_loss: 72.5659 - val_accuracy: 0.4966\n",
            "Epoch 5/30\n",
            "10/10 [==============================] - 5s 468ms/step - loss: 0.9408 - accuracy: 0.6938 - val_loss: 128.0463 - val_accuracy: 0.4313\n",
            "Epoch 6/30\n",
            "10/10 [==============================] - 5s 465ms/step - loss: 0.8677 - accuracy: 0.7188 - val_loss: 94.5072 - val_accuracy: 0.4204\n",
            "Epoch 7/30\n",
            "10/10 [==============================] - 5s 471ms/step - loss: 0.9359 - accuracy: 0.6938 - val_loss: 40.5383 - val_accuracy: 0.2544\n",
            "Epoch 8/30\n",
            "10/10 [==============================] - 5s 471ms/step - loss: 1.0217 - accuracy: 0.7312 - val_loss: 66.0218 - val_accuracy: 0.3020\n",
            "Epoch 9/30\n",
            "10/10 [==============================] - 5s 465ms/step - loss: 0.7955 - accuracy: 0.7000 - val_loss: 22.3135 - val_accuracy: 0.3959\n",
            "Epoch 10/30\n",
            "10/10 [==============================] - 5s 474ms/step - loss: 0.8553 - accuracy: 0.7000 - val_loss: 16.9132 - val_accuracy: 0.2939\n",
            "Epoch 11/30\n",
            "10/10 [==============================] - 4s 459ms/step - loss: 1.3267 - accuracy: 0.5263 - val_loss: 9.8170 - val_accuracy: 0.4068\n",
            "Epoch 12/30\n",
            "10/10 [==============================] - 5s 466ms/step - loss: 1.1143 - accuracy: 0.6250 - val_loss: 9.4072 - val_accuracy: 0.4190\n",
            "Epoch 13/30\n",
            "10/10 [==============================] - 4s 458ms/step - loss: 0.9031 - accuracy: 0.7171 - val_loss: 6.6592 - val_accuracy: 0.4272\n",
            "Epoch 14/30\n",
            "10/10 [==============================] - 5s 467ms/step - loss: 0.9533 - accuracy: 0.6687 - val_loss: 4.6966 - val_accuracy: 0.3442\n",
            "Epoch 15/30\n",
            "10/10 [==============================] - 5s 464ms/step - loss: 0.9440 - accuracy: 0.6625 - val_loss: 2.2052 - val_accuracy: 0.5075\n",
            "Epoch 16/30\n",
            "10/10 [==============================] - 4s 456ms/step - loss: 0.8261 - accuracy: 0.7500 - val_loss: 4.4923 - val_accuracy: 0.4122\n",
            "Epoch 17/30\n",
            "10/10 [==============================] - 5s 463ms/step - loss: 0.8973 - accuracy: 0.7250 - val_loss: 5.0298 - val_accuracy: 0.4803\n",
            "Epoch 18/30\n",
            "10/10 [==============================] - 5s 463ms/step - loss: 0.6090 - accuracy: 0.8000 - val_loss: 6.3081 - val_accuracy: 0.5102\n",
            "Epoch 19/30\n",
            "10/10 [==============================] - 4s 458ms/step - loss: 0.8732 - accuracy: 0.7063 - val_loss: 4.1433 - val_accuracy: 0.3769\n",
            "Epoch 20/30\n",
            "10/10 [==============================] - 4s 458ms/step - loss: 0.6706 - accuracy: 0.8000 - val_loss: 4.1366 - val_accuracy: 0.4245\n",
            "Epoch 21/30\n",
            "10/10 [==============================] - 4s 456ms/step - loss: 0.6447 - accuracy: 0.8421 - val_loss: 4.1172 - val_accuracy: 0.4395\n",
            "Epoch 22/30\n",
            "10/10 [==============================] - 5s 468ms/step - loss: 0.7810 - accuracy: 0.7625 - val_loss: 59.7035 - val_accuracy: 0.3565\n",
            "Epoch 23/30\n",
            "10/10 [==============================] - 5s 466ms/step - loss: 0.7909 - accuracy: 0.7312 - val_loss: 40.9551 - val_accuracy: 0.4313\n",
            "Epoch 24/30\n",
            "10/10 [==============================] - 5s 462ms/step - loss: 0.6952 - accuracy: 0.8026 - val_loss: 25.6091 - val_accuracy: 0.4381\n",
            "Epoch 25/30\n",
            "10/10 [==============================] - 5s 470ms/step - loss: 0.6530 - accuracy: 0.8000 - val_loss: 14.7545 - val_accuracy: 0.4667\n",
            "Epoch 26/30\n",
            "10/10 [==============================] - 5s 468ms/step - loss: 0.8823 - accuracy: 0.7000 - val_loss: 5.8731 - val_accuracy: 0.3850\n",
            "Epoch 27/30\n",
            "10/10 [==============================] - 5s 463ms/step - loss: 0.7146 - accuracy: 0.7688 - val_loss: 3.3612 - val_accuracy: 0.5565\n",
            "Epoch 28/30\n",
            "10/10 [==============================] - 4s 458ms/step - loss: 0.6787 - accuracy: 0.7566 - val_loss: 13.3709 - val_accuracy: 0.5306\n",
            "Epoch 29/30\n",
            "10/10 [==============================] - 5s 468ms/step - loss: 0.6934 - accuracy: 0.8188 - val_loss: 12.6782 - val_accuracy: 0.5837\n",
            "Epoch 30/30\n",
            "10/10 [==============================] - 4s 460ms/step - loss: 0.7401 - accuracy: 0.7250 - val_loss: 4.8570 - val_accuracy: 0.3959\n",
            "Train time 157.73989582061768 seconds\n"
          ]
        }
      ]
    },
    {
      "cell_type": "code",
      "source": [
        "plot_acc_loss(history_resnet152_vi)"
      ],
      "metadata": {
        "colab": {
          "base_uri": "https://localhost:8080/",
          "height": 591
        },
        "id": "u08atzZK8FPo",
        "outputId": "da31c433-7f14-4e7f-a3cf-d30bbf13163d"
      },
      "execution_count": null,
      "outputs": [
        {
          "output_type": "display_data",
          "data": {
            "text/plain": [
              "<Figure size 432x288 with 1 Axes>"
            ],
            "image/png": "[encoded data removed]"
          },
          "metadata": {
            "needs_background": "light"
          }
        },
        {
          "output_type": "display_data",
          "data": {
            "text/plain": [
              "<Figure size 432x288 with 1 Axes>"
            ],
            "image/png": "[encoded data removed]"
          },
          "metadata": {
            "needs_background": "light"
          }
        },
        {
          "output_type": "stream",
          "name": "stdout",
          "text": [
            "train acc: 0.720, train loss: 0.912, val acc: 0.335, vall loss:1462549.594\n"
          ]
        }
      ]
    },
    {
      "cell_type": "markdown",
      "source": [
        "### IR Images"
      ],
      "metadata": {
        "id": "zHxZa3R68Q_g"
      }
    },
    {
      "cell_type": "code",
      "source": [
        "resnet50_ir_model = ResNet50(weights='imagenet', input_shape=(Config.IMG_SIZE, Config.IMG_SIZE, 3))"
      ],
      "metadata": {
        "id": "iMFEbwjt8NrQ"
      },
      "execution_count": null,
      "outputs": []
    },
    {
      "cell_type": "code",
      "source": [
        "history_resnet50_ir = cnn_model_train(resnet50_ir_model, train_ir_generator, x_ir_test, y_ir_test)"
      ],
      "metadata": {
        "colab": {
          "base_uri": "https://localhost:8080/"
        },
        "id": "ydd_Lomp8NrR",
        "outputId": "8f6b5e92-e5c1-4186-e403-50ed910a78d6"
      },
      "execution_count": null,
      "outputs": [
        {
          "output_type": "stream",
          "name": "stdout",
          "text": [
            "Epoch 1/30\n",
            "10/10 [==============================] - 10s 533ms/step - loss: 4.0272 - accuracy: 0.2703 - val_loss: 14.4878 - val_accuracy: 0.0000e+00\n",
            "Epoch 2/30\n",
            "10/10 [==============================] - 4s 433ms/step - loss: 2.1742 - accuracy: 0.4000 - val_loss: 9478.5518 - val_accuracy: 0.0000e+00\n",
            "Epoch 3/30\n",
            "10/10 [==============================] - 4s 422ms/step - loss: 1.5043 - accuracy: 0.4324 - val_loss: 2816.1086 - val_accuracy: 0.0000e+00\n",
            "Epoch 4/30\n",
            "10/10 [==============================] - 4s 441ms/step - loss: 1.5028 - accuracy: 0.4750 - val_loss: 232.9572 - val_accuracy: 0.0000e+00\n",
            "Epoch 5/30\n",
            "10/10 [==============================] - 4s 438ms/step - loss: 1.4369 - accuracy: 0.5250 - val_loss: 32.4686 - val_accuracy: 0.0287\n",
            "Epoch 6/30\n",
            "10/10 [==============================] - 4s 441ms/step - loss: 1.0734 - accuracy: 0.6375 - val_loss: 39.8362 - val_accuracy: 0.1437\n",
            "Epoch 7/30\n",
            "10/10 [==============================] - 4s 449ms/step - loss: 1.2193 - accuracy: 0.5541 - val_loss: 185.2094 - val_accuracy: 0.1394\n",
            "Epoch 8/30\n",
            "10/10 [==============================] - 4s 440ms/step - loss: 1.0941 - accuracy: 0.6062 - val_loss: 213.6806 - val_accuracy: 0.1480\n",
            "Epoch 9/30\n",
            "10/10 [==============================] - 4s 424ms/step - loss: 1.0551 - accuracy: 0.6351 - val_loss: 64.0131 - val_accuracy: 0.1825\n",
            "Epoch 10/30\n",
            "10/10 [==============================] - 4s 429ms/step - loss: 0.8211 - accuracy: 0.6892 - val_loss: 4.6574 - val_accuracy: 0.3448\n",
            "Epoch 11/30\n",
            "10/10 [==============================] - 4s 442ms/step - loss: 0.9707 - accuracy: 0.6687 - val_loss: 38.1502 - val_accuracy: 0.1394\n",
            "Epoch 12/30\n",
            "10/10 [==============================] - 4s 431ms/step - loss: 1.0917 - accuracy: 0.6486 - val_loss: 3.0056 - val_accuracy: 0.3434\n",
            "Epoch 13/30\n",
            "10/10 [==============================] - 4s 429ms/step - loss: 0.8920 - accuracy: 0.7095 - val_loss: 2.8859 - val_accuracy: 0.2701\n",
            "Epoch 14/30\n",
            "10/10 [==============================] - 4s 443ms/step - loss: 0.8999 - accuracy: 0.6875 - val_loss: 2.5806 - val_accuracy: 0.4023\n",
            "Epoch 15/30\n",
            "10/10 [==============================] - 4s 443ms/step - loss: 0.8037 - accuracy: 0.7125 - val_loss: 2.5205 - val_accuracy: 0.4296\n",
            "Epoch 16/30\n",
            "10/10 [==============================] - 4s 445ms/step - loss: 0.7371 - accuracy: 0.7563 - val_loss: 3.1485 - val_accuracy: 0.3391\n",
            "Epoch 17/30\n",
            "10/10 [==============================] - 4s 433ms/step - loss: 0.6091 - accuracy: 0.7770 - val_loss: 2.0230 - val_accuracy: 0.4095\n",
            "Epoch 18/30\n",
            "10/10 [==============================] - 4s 444ms/step - loss: 0.8121 - accuracy: 0.7250 - val_loss: 3.3545 - val_accuracy: 0.3951\n",
            "Epoch 19/30\n",
            "10/10 [==============================] - 4s 441ms/step - loss: 0.8715 - accuracy: 0.7250 - val_loss: 2.4188 - val_accuracy: 0.3621\n",
            "Epoch 20/30\n",
            "10/10 [==============================] - 4s 441ms/step - loss: 0.7565 - accuracy: 0.7250 - val_loss: 3.4455 - val_accuracy: 0.3779\n",
            "Epoch 21/30\n",
            "10/10 [==============================] - 4s 430ms/step - loss: 0.5838 - accuracy: 0.8311 - val_loss: 2.6081 - val_accuracy: 0.2457\n",
            "Epoch 22/30\n",
            "10/10 [==============================] - 4s 441ms/step - loss: 0.7219 - accuracy: 0.7375 - val_loss: 2.3491 - val_accuracy: 0.3649\n",
            "Epoch 23/30\n",
            "10/10 [==============================] - 4s 444ms/step - loss: 0.7593 - accuracy: 0.7500 - val_loss: 3.7229 - val_accuracy: 0.3046\n",
            "Epoch 24/30\n",
            "10/10 [==============================] - 4s 444ms/step - loss: 0.6339 - accuracy: 0.7875 - val_loss: 5.2324 - val_accuracy: 0.4325\n",
            "Epoch 25/30\n",
            "10/10 [==============================] - 4s 444ms/step - loss: 0.6918 - accuracy: 0.7688 - val_loss: 1.9949 - val_accuracy: 0.5043\n",
            "Epoch 26/30\n",
            "10/10 [==============================] - 4s 440ms/step - loss: 0.5670 - accuracy: 0.8125 - val_loss: 2.3378 - val_accuracy: 0.4382\n",
            "Epoch 27/30\n",
            "10/10 [==============================] - 4s 444ms/step - loss: 0.4906 - accuracy: 0.7875 - val_loss: 2.2186 - val_accuracy: 0.4440\n",
            "Epoch 28/30\n",
            "10/10 [==============================] - 4s 431ms/step - loss: 0.6091 - accuracy: 0.7703 - val_loss: 21.7540 - val_accuracy: 0.1049\n",
            "Epoch 29/30\n",
            "10/10 [==============================] - 4s 439ms/step - loss: 0.5457 - accuracy: 0.8438 - val_loss: 33.0099 - val_accuracy: 0.3233\n",
            "Epoch 30/30\n",
            "10/10 [==============================] - 4s 442ms/step - loss: 0.5375 - accuracy: 0.8062 - val_loss: 9.1960 - val_accuracy: 0.2759\n",
            "Train time 145.6906862258911 seconds\n"
          ]
        }
      ]
    },
    {
      "cell_type": "code",
      "source": [
        "plot_acc_loss(history_resnet50_ir)"
      ],
      "metadata": {
        "colab": {
          "base_uri": "https://localhost:8080/",
          "height": 591
        },
        "id": "N9YA_7n78NrS",
        "outputId": "e218c354-7a19-44ce-f204-a147c43f99c6"
      },
      "execution_count": null,
      "outputs": [
        {
          "output_type": "display_data",
          "data": {
            "text/plain": [
              "<Figure size 432x288 with 1 Axes>"
            ],
            "image/png": "[encoded data removed]"
          },
          "metadata": {
            "needs_background": "light"
          }
        },
        {
          "output_type": "display_data",
          "data": {
            "text/plain": [
              "<Figure size 432x288 with 1 Axes>"
            ],
            "image/png": "[encoded data removed]"
          },
          "metadata": {
            "needs_background": "light"
          }
        },
        {
          "output_type": "stream",
          "name": "stdout",
          "text": [
            "train acc: 0.675, train loss: 1.016, val acc: 0.263, vall loss:440.998\n"
          ]
        }
      ]
    },
    {
      "cell_type": "markdown",
      "source": [
        "## VGG19"
      ],
      "metadata": {
        "id": "Qde-X4d327s8"
      }
    },
    {
      "cell_type": "markdown",
      "source": [
        "### VI Images"
      ],
      "metadata": {
        "id": "wuc38PyU8upH"
      }
    },
    {
      "cell_type": "code",
      "source": [
        "vgg19_vi_model = VGG19(weights='imagenet', input_shape=(Config.IMG_SIZE, Config.IMG_SIZE, 3))"
      ],
      "metadata": {
        "id": "olqb9-tE8upI"
      },
      "execution_count": null,
      "outputs": []
    },
    {
      "cell_type": "code",
      "source": [
        "history_vgg19_vi = cnn_model_train(vgg19_vi_model, train_vi_generator, x_vi_test, y_vi_test)"
      ],
      "metadata": {
        "colab": {
          "base_uri": "https://localhost:8080/"
        },
        "id": "9uCMjJqf8upI",
        "outputId": "820b46da-9ceb-4db7-e656-77bd9f97458a"
      },
      "execution_count": null,
      "outputs": [
        {
          "output_type": "stream",
          "name": "stdout",
          "text": [
            "Epoch 1/30\n",
            "10/10 [==============================] - 17s 1s/step - loss: 140.6825 - accuracy: 0.2125 - val_loss: 1.9641 - val_accuracy: 0.3605\n",
            "Epoch 2/30\n",
            "10/10 [==============================] - 7s 712ms/step - loss: 1.8281 - accuracy: 0.3063 - val_loss: 1.5431 - val_accuracy: 0.4490\n",
            "Epoch 3/30\n",
            "10/10 [==============================] - 9s 972ms/step - loss: 1.9127 - accuracy: 0.3355 - val_loss: 1.7297 - val_accuracy: 0.2122\n",
            "Epoch 4/30\n",
            "10/10 [==============================] - 7s 713ms/step - loss: 1.6546 - accuracy: 0.3875 - val_loss: 1.5357 - val_accuracy: 0.4082\n",
            "Epoch 5/30\n",
            "10/10 [==============================] - 7s 702ms/step - loss: 1.5751 - accuracy: 0.3487 - val_loss: 1.5268 - val_accuracy: 0.4204\n",
            "Epoch 6/30\n",
            "10/10 [==============================] - 7s 710ms/step - loss: 1.5109 - accuracy: 0.4000 - val_loss: 1.5565 - val_accuracy: 0.3660\n",
            "Epoch 7/30\n",
            "10/10 [==============================] - 7s 711ms/step - loss: 1.4639 - accuracy: 0.4187 - val_loss: 1.5849 - val_accuracy: 0.4354\n",
            "Epoch 8/30\n",
            "10/10 [==============================] - 7s 711ms/step - loss: 1.5048 - accuracy: 0.4187 - val_loss: 1.5510 - val_accuracy: 0.4245\n",
            "Epoch 9/30\n",
            "10/10 [==============================] - 7s 710ms/step - loss: 1.6045 - accuracy: 0.3938 - val_loss: 1.5077 - val_accuracy: 0.4680\n",
            "Epoch 10/30\n",
            "10/10 [==============================] - 7s 712ms/step - loss: 1.4576 - accuracy: 0.4250 - val_loss: 1.4707 - val_accuracy: 0.4667\n",
            "Epoch 11/30\n",
            "10/10 [==============================] - 7s 709ms/step - loss: 1.4122 - accuracy: 0.5125 - val_loss: 1.7371 - val_accuracy: 0.2966\n",
            "Epoch 12/30\n",
            "10/10 [==============================] - 7s 711ms/step - loss: 1.5844 - accuracy: 0.3375 - val_loss: 1.6179 - val_accuracy: 0.4041\n",
            "Epoch 13/30\n",
            "10/10 [==============================] - 7s 711ms/step - loss: 1.4770 - accuracy: 0.4313 - val_loss: 1.4561 - val_accuracy: 0.4517\n",
            "Epoch 14/30\n",
            "10/10 [==============================] - 7s 714ms/step - loss: 1.3764 - accuracy: 0.4375 - val_loss: 1.4437 - val_accuracy: 0.5048\n",
            "Epoch 15/30\n",
            "10/10 [==============================] - 7s 710ms/step - loss: 1.3528 - accuracy: 0.5250 - val_loss: 1.5395 - val_accuracy: 0.5293\n",
            "Epoch 16/30\n",
            "10/10 [==============================] - 7s 710ms/step - loss: 1.3865 - accuracy: 0.5000 - val_loss: 1.4997 - val_accuracy: 0.5129\n",
            "Epoch 17/30\n",
            "10/10 [==============================] - 7s 709ms/step - loss: 1.3050 - accuracy: 0.5188 - val_loss: 1.4506 - val_accuracy: 0.4776\n",
            "Epoch 18/30\n",
            "10/10 [==============================] - 7s 711ms/step - loss: 1.4314 - accuracy: 0.4625 - val_loss: 1.5135 - val_accuracy: 0.4272\n",
            "Epoch 19/30\n",
            "10/10 [==============================] - 7s 704ms/step - loss: 1.3058 - accuracy: 0.5132 - val_loss: 1.4163 - val_accuracy: 0.5265\n",
            "Epoch 20/30\n",
            "10/10 [==============================] - 7s 708ms/step - loss: 1.3309 - accuracy: 0.5395 - val_loss: 1.6086 - val_accuracy: 0.4762\n",
            "Epoch 21/30\n",
            "10/10 [==============================] - 7s 704ms/step - loss: 1.3973 - accuracy: 0.5132 - val_loss: 1.5426 - val_accuracy: 0.4993\n",
            "Epoch 22/30\n",
            "10/10 [==============================] - 7s 709ms/step - loss: 1.3549 - accuracy: 0.4750 - val_loss: 1.4007 - val_accuracy: 0.5551\n",
            "Epoch 23/30\n",
            "10/10 [==============================] - 7s 707ms/step - loss: 1.2664 - accuracy: 0.5250 - val_loss: 1.4271 - val_accuracy: 0.4503\n",
            "Epoch 24/30\n",
            "10/10 [==============================] - 7s 707ms/step - loss: 1.3153 - accuracy: 0.4750 - val_loss: 1.6868 - val_accuracy: 0.3605\n",
            "Epoch 25/30\n",
            "10/10 [==============================] - 7s 706ms/step - loss: 1.4490 - accuracy: 0.4625 - val_loss: 1.4952 - val_accuracy: 0.4340\n",
            "Epoch 26/30\n",
            "10/10 [==============================] - 7s 707ms/step - loss: 1.2898 - accuracy: 0.4812 - val_loss: 1.4949 - val_accuracy: 0.4993\n",
            "Epoch 27/30\n",
            "10/10 [==============================] - 7s 709ms/step - loss: 1.3389 - accuracy: 0.5437 - val_loss: 1.4617 - val_accuracy: 0.5388\n",
            "Epoch 28/30\n",
            "10/10 [==============================] - 7s 708ms/step - loss: 1.2718 - accuracy: 0.5562 - val_loss: 1.4571 - val_accuracy: 0.5143\n",
            "Epoch 29/30\n",
            "10/10 [==============================] - 7s 711ms/step - loss: 1.4196 - accuracy: 0.5312 - val_loss: 1.5060 - val_accuracy: 0.5524\n",
            "Epoch 30/30\n",
            "10/10 [==============================] - 7s 717ms/step - loss: 1.3339 - accuracy: 0.4812 - val_loss: 1.4504 - val_accuracy: 0.5007\n",
            "Train time 271.0615155696869 seconds\n"
          ]
        }
      ]
    },
    {
      "cell_type": "code",
      "source": [
        "plot_acc_loss(history_vgg19_vi)"
      ],
      "metadata": {
        "colab": {
          "base_uri": "https://localhost:8080/",
          "height": 591
        },
        "id": "eJF-Ldvu8upM",
        "outputId": "c1b1cb81-f9e5-4683-8e5f-9f45b5e66245"
      },
      "execution_count": null,
      "outputs": [
        {
          "output_type": "display_data",
          "data": {
            "text/plain": [
              "<Figure size 432x288 with 1 Axes>"
            ],
            "image/png": "[encoded data removed]"
          },
          "metadata": {
            "needs_background": "light"
          }
        },
        {
          "output_type": "display_data",
          "data": {
            "text/plain": [
              "<Figure size 432x288 with 1 Axes>"
            ],
            "image/png": "[encoded data removed]"
          },
          "metadata": {
            "needs_background": "light"
          }
        },
        {
          "output_type": "stream",
          "name": "stdout",
          "text": [
            "train acc: 0.449, train loss: 6.086, val acc: 0.451, vall loss:1.539\n"
          ]
        }
      ]
    },
    {
      "cell_type": "markdown",
      "source": [
        "### IR Images"
      ],
      "metadata": {
        "id": "71ZzWxh98upM"
      }
    },
    {
      "cell_type": "code",
      "source": [
        "vgg19_ir_model = VGG19(weights='imagenet', input_shape=(Config.IMG_SIZE, Config.IMG_SIZE, 3))"
      ],
      "metadata": {
        "id": "h8G2elXE8upM"
      },
      "execution_count": null,
      "outputs": []
    },
    {
      "cell_type": "code",
      "source": [
        "history_vgg19_ir = cnn_model_train(vgg19_ir_model, train_ir_generator, x_ir_test, y_ir_test)"
      ],
      "metadata": {
        "colab": {
          "base_uri": "https://localhost:8080/"
        },
        "id": "c1Yp0UUe8upO",
        "outputId": "6cdc7e5a-d3f6-427c-e7da-5ed6bffb075f"
      },
      "execution_count": null,
      "outputs": [
        {
          "output_type": "stream",
          "name": "stdout",
          "text": [
            "Epoch 1/30\n",
            "10/10 [==============================] - 12s 1s/step - loss: 535.4644 - accuracy: 0.2027 - val_loss: 2.4243 - val_accuracy: 0.1394\n",
            "Epoch 2/30\n",
            "10/10 [==============================] - 7s 688ms/step - loss: 1.9090 - accuracy: 0.2973 - val_loss: 1.8188 - val_accuracy: 0.3233\n",
            "Epoch 3/30\n",
            "10/10 [==============================] - 7s 685ms/step - loss: 1.9028 - accuracy: 0.1875 - val_loss: 1.9025 - val_accuracy: 0.2371\n",
            "Epoch 4/30\n",
            "10/10 [==============================] - 7s 671ms/step - loss: 1.6745 - accuracy: 0.3176 - val_loss: 1.7349 - val_accuracy: 0.2256\n",
            "Epoch 5/30\n",
            "10/10 [==============================] - 7s 678ms/step - loss: 1.6602 - accuracy: 0.2973 - val_loss: 1.7128 - val_accuracy: 0.3362\n",
            "Epoch 6/30\n",
            "10/10 [==============================] - 7s 681ms/step - loss: 1.6821 - accuracy: 0.2875 - val_loss: 1.8007 - val_accuracy: 0.3563\n",
            "Epoch 7/30\n",
            "10/10 [==============================] - 6s 675ms/step - loss: 2.1132 - accuracy: 0.2703 - val_loss: 1.8058 - val_accuracy: 0.2759\n",
            "Epoch 8/30\n",
            "10/10 [==============================] - 7s 676ms/step - loss: 1.6647 - accuracy: 0.3784 - val_loss: 4.6673 - val_accuracy: 0.2069\n",
            "Epoch 9/30\n",
            "10/10 [==============================] - 7s 686ms/step - loss: 2.2695 - accuracy: 0.2812 - val_loss: 1.9348 - val_accuracy: 0.3190\n",
            "Epoch 10/30\n",
            "10/10 [==============================] - 6s 695ms/step - loss: 1.7687 - accuracy: 0.3041 - val_loss: 1.9213 - val_accuracy: 0.1580\n",
            "Epoch 11/30\n",
            "10/10 [==============================] - 7s 675ms/step - loss: 1.8041 - accuracy: 0.2703 - val_loss: 1.7938 - val_accuracy: 0.1940\n",
            "Epoch 12/30\n",
            "10/10 [==============================] - 7s 686ms/step - loss: 1.7659 - accuracy: 0.2000 - val_loss: 1.7009 - val_accuracy: 0.3233\n",
            "Epoch 13/30\n",
            "10/10 [==============================] - 7s 673ms/step - loss: 1.6949 - accuracy: 0.2703 - val_loss: 1.7217 - val_accuracy: 0.3233\n",
            "Epoch 14/30\n",
            "10/10 [==============================] - 7s 681ms/step - loss: 1.6622 - accuracy: 0.2937 - val_loss: 1.7254 - val_accuracy: 0.3506\n",
            "Epoch 15/30\n",
            "10/10 [==============================] - 7s 682ms/step - loss: 1.8250 - accuracy: 0.2750 - val_loss: 1.7858 - val_accuracy: 0.2069\n",
            "Epoch 16/30\n",
            "10/10 [==============================] - 7s 684ms/step - loss: 1.6771 - accuracy: 0.3063 - val_loss: 1.8043 - val_accuracy: 0.2069\n",
            "Epoch 17/30\n",
            "10/10 [==============================] - 7s 682ms/step - loss: 1.7076 - accuracy: 0.2062 - val_loss: 1.8236 - val_accuracy: 0.3233\n",
            "Epoch 18/30\n",
            "10/10 [==============================] - 7s 680ms/step - loss: 1.8275 - accuracy: 0.2375 - val_loss: 1.7116 - val_accuracy: 0.2069\n",
            "Epoch 19/30\n",
            "10/10 [==============================] - 7s 679ms/step - loss: 1.7439 - accuracy: 0.1937 - val_loss: 1.7505 - val_accuracy: 0.2069\n",
            "Epoch 20/30\n",
            "10/10 [==============================] - 7s 669ms/step - loss: 1.6710 - accuracy: 0.3243 - val_loss: 1.8262 - val_accuracy: 0.3233\n",
            "Epoch 21/30\n",
            "10/10 [==============================] - 7s 681ms/step - loss: 1.7501 - accuracy: 0.2375 - val_loss: 1.7282 - val_accuracy: 0.3233\n",
            "Epoch 22/30\n",
            "10/10 [==============================] - 7s 681ms/step - loss: 1.7820 - accuracy: 0.2438 - val_loss: 1.7430 - val_accuracy: 0.2069\n",
            "Epoch 23/30\n",
            "10/10 [==============================] - 7s 683ms/step - loss: 1.7139 - accuracy: 0.3250 - val_loss: 1.8247 - val_accuracy: 0.3233\n",
            "Epoch 24/30\n",
            "10/10 [==============================] - 7s 671ms/step - loss: 1.8035 - accuracy: 0.2162 - val_loss: 1.8328 - val_accuracy: 0.2069\n",
            "Epoch 25/30\n",
            "10/10 [==============================] - 7s 681ms/step - loss: 1.7140 - accuracy: 0.2750 - val_loss: 1.7307 - val_accuracy: 0.3233\n",
            "Epoch 26/30\n",
            "10/10 [==============================] - 7s 671ms/step - loss: 1.7913 - accuracy: 0.1892 - val_loss: 1.7186 - val_accuracy: 0.3233\n",
            "Epoch 27/30\n",
            "10/10 [==============================] - 7s 681ms/step - loss: 1.7231 - accuracy: 0.2562 - val_loss: 1.7328 - val_accuracy: 0.3233\n",
            "Epoch 28/30\n",
            "10/10 [==============================] - 7s 678ms/step - loss: 1.6700 - accuracy: 0.2973 - val_loss: 1.7557 - val_accuracy: 0.3233\n",
            "Epoch 29/30\n",
            "10/10 [==============================] - 7s 683ms/step - loss: 1.6955 - accuracy: 0.2750 - val_loss: 1.8268 - val_accuracy: 0.2069\n",
            "Epoch 30/30\n",
            "10/10 [==============================] - 7s 674ms/step - loss: 1.6639 - accuracy: 0.2838 - val_loss: 1.7780 - val_accuracy: 0.3233\n",
            "Train time 256.0742211341858 seconds\n"
          ]
        }
      ]
    },
    {
      "cell_type": "code",
      "source": [
        "plot_acc_loss(history_vgg19_ir)"
      ],
      "metadata": {
        "colab": {
          "base_uri": "https://localhost:8080/",
          "height": 591
        },
        "id": "kSttgffw8upO",
        "outputId": "0af93cfb-729c-47a0-a6ad-8f28b6fe9058"
      },
      "execution_count": null,
      "outputs": [
        {
          "output_type": "display_data",
          "data": {
            "text/plain": [
              "<Figure size 432x288 with 1 Axes>"
            ],
            "image/png": "[encoded data removed]"
          },
          "metadata": {
            "needs_background": "light"
          }
        },
        {
          "output_type": "display_data",
          "data": {
            "text/plain": [
              "<Figure size 432x288 with 1 Axes>"
            ],
            "image/png": "[encoded data removed]"
          },
          "metadata": {
            "needs_background": "light"
          }
        },
        {
          "output_type": "stream",
          "name": "stdout",
          "text": [
            "train acc: 0.267, train loss: 19.560, val acc: 0.271, vall loss:1.901\n"
          ]
        }
      ]
    },
    {
      "cell_type": "code",
      "source": [
        "history_resnet152_vi.history.keys()"
      ],
      "metadata": {
        "colab": {
          "base_uri": "https://localhost:8080/"
        },
        "id": "pKfQqNdfEw84",
        "outputId": "7909cea7-10b2-45ad-cec1-bd9163345345"
      },
      "execution_count": null,
      "outputs": [
        {
          "output_type": "execute_result",
          "data": {
            "text/plain": [
              "dict_keys(['loss', 'accuracy', 'val_loss', 'val_accuracy'])"
            ]
          },
          "metadata": {},
          "execution_count": 43
        }
      ]
    },
    {
      "cell_type": "markdown",
      "source": [
        "## Compare Models"
      ],
      "metadata": {
        "id": "oh5EiiwsEiJp"
      }
    },
    {
      "cell_type": "code",
      "source": [
        "# show the accuracy by model\n",
        "models_dict= {'resnet152_vi': history_resnet152_vi, \n",
        "             'resnet152_ir': history_resnet152_ir, \n",
        "             'resnet50_vi': history_resnet50_vi, \n",
        "              'resnet50_ir': history_resnet50_ir,\n",
        "              'vgg19_vi': history_vgg19_vi, \n",
        "              'vgg19_ir': history_vgg19_ir,\n",
        "              }\n",
        "\n",
        "def show_accuracy_by_model(models):\n",
        "    accuracy_df = pd.DataFrame(columns=['model_name', 'split', 'accuracy'])\n",
        "\n",
        "    for model_name, model in models.items():\n",
        "        accuracy_df.loc[len(accuracy_df)] = [model_name, 'train', mean(model.history['accuracy'])]\n",
        "        accuracy_df.loc[len(accuracy_df)] = [model_name, 'val', mean(model.history['val_accuracy'])]\n",
        "\n",
        "    fig = px.bar(accuracy_df, x='model_name', y='accuracy', color='split', barmode='group')\n",
        "    # img_bytes = fig.to_image(format=\"png\", width=600, height=350, scale=2)\n",
        "    display(fig)\n",
        "    # display(Image(img_bytes))\n",
        "\n",
        "show_accuracy_by_model(models_dict)"
      ],
      "metadata": {
        "colab": {
          "base_uri": "https://localhost:8080/",
          "height": 542
        },
        "id": "LJ6r8AbMDdye",
        "outputId": "a5d9339c-79a3-4ca4-f664-c6867629ead1"
      },
      "execution_count": null,
      "outputs": [
        {
          "output_type": "display_data",
          "data": {
            "text/html": [
              "<html>\n",
              "<head><meta charset=\"utf-8\" /></head>\n",
              "<body>\n",
              "    <div>            <script src=\"https://cdnjs.cloudflare.com/ajax/libs/mathjax/2.7.5/MathJax.js?config=TeX-AMS-MML_SVG\"></script><script type=\"text/javascript\">if (window.MathJax) {MathJax.Hub.Config({SVG: {font: \"STIX-Web\"}});}</script>                <script type=\"text/javascript\">window.PlotlyConfig = {MathJaxConfig: 'local'};</script>\n",
              "        <script src=\"https://cdn.plot.ly/plotly-2.8.3.min.js\"></script>                <div id=\"f389a941-ad72-4418-ad91-dcf7d5207ff4\" class=\"plotly-graph-div\" style=\"height:525px; width:100%;\"></div>            <script type=\"text/javascript\">                                    window.PLOTLYENV=window.PLOTLYENV || {};                                    if (document.getElementById(\"f389a941-ad72-4418-ad91-dcf7d5207ff4\")) {                    Plotly.newPlot(                        \"f389a941-ad72-4418-ad91-dcf7d5207ff4\",                        [{\"alignmentgroup\":\"True\",\"hovertemplate\":\"split=train<br>model_name=%{x}<br>accuracy=%{y}<extra></extra>\",\"legendgroup\":\"train\",\"marker\":{\"color\":\"#636efa\",\"pattern\":{\"shape\":\"\"}},\"name\":\"train\",\"offsetgroup\":\"train\",\"orientation\":\"v\",\"showlegend\":true,\"textposition\":\"auto\",\"x\":[\"resnet152_vi\",\"resnet152_ir\",\"resnet50_vi\",\"resnet50_ir\",\"vgg19_vi\",\"vgg19_ir\"],\"xaxis\":\"x\",\"y\":[0.7195175419251124,0.6114189187685649,0.8187938590844472,0.675168921550115,0.4489583323399226,0.2666722958286603],\"yaxis\":\"y\",\"type\":\"bar\"},{\"alignmentgroup\":\"True\",\"hovertemplate\":\"split=val<br>model_name=%{x}<br>accuracy=%{y}<extra></extra>\",\"legendgroup\":\"val\",\"marker\":{\"color\":\"#EF553B\",\"pattern\":{\"shape\":\"\"}},\"name\":\"val\",\"offsetgroup\":\"val\",\"orientation\":\"v\",\"showlegend\":true,\"textposition\":\"auto\",\"x\":[\"resnet152_vi\",\"resnet152_ir\",\"resnet50_vi\",\"resnet50_ir\",\"vgg19_vi\",\"vgg19_ir\"],\"xaxis\":\"x\",\"y\":[0.3352834473053614,0.2654214563469092,0.3903401349981626,0.26312260460108516,0.4507483015457789,0.2708812286456426],\"yaxis\":\"y\",\"type\":\"bar\"}],                        {\"template\":{\"data\":{\"bar\":[{\"error_x\":{\"color\":\"#2a3f5f\"},\"error_y\":{\"color\":\"#2a3f5f\"},\"marker\":{\"line\":{\"color\":\"#E5ECF6\",\"width\":0.5},\"pattern\":{\"fillmode\":\"overlay\",\"size\":10,\"solidity\":0.2}},\"type\":\"bar\"}],\"barpolar\":[{\"marker\":{\"line\":{\"color\":\"#E5ECF6\",\"width\":0.5},\"pattern\":{\"fillmode\":\"overlay\",\"size\":10,\"solidity\":0.2}},\"type\":\"barpolar\"}],\"carpet\":[{\"aaxis\":{\"endlinecolor\":\"#2a3f5f\",\"gridcolor\":\"white\",\"linecolor\":\"white\",\"minorgridcolor\":\"white\",\"startlinecolor\":\"#2a3f5f\"},\"baxis\":{\"endlinecolor\":\"#2a3f5f\",\"gridcolor\":\"white\",\"linecolor\":\"white\",\"minorgridcolor\":\"white\",\"startlinecolor\":\"#2a3f5f\"},\"type\":\"carpet\"}],\"choropleth\":[{\"colorbar\":{\"outlinewidth\":0,\"ticks\":\"\"},\"type\":\"choropleth\"}],\"contour\":[{\"colorbar\":{\"outlinewidth\":0,\"ticks\":\"\"},\"colorscale\":[[0.0,\"#0d0887\"],[0.1111111111111111,\"#46039f\"],[0.2222222222222222,\"#7201a8\"],[0.3333333333333333,\"#9c179e\"],[0.4444444444444444,\"#bd3786\"],[0.5555555555555556,\"#d8576b\"],[0.6666666666666666,\"#ed7953\"],[0.7777777777777778,\"#fb9f3a\"],[0.8888888888888888,\"#fdca26\"],[1.0,\"#f0f921\"]],\"type\":\"contour\"}],\"contourcarpet\":[{\"colorbar\":{\"outlinewidth\":0,\"ticks\":\"\"},\"type\":\"contourcarpet\"}],\"heatmap\":[{\"colorbar\":{\"outlinewidth\":0,\"ticks\":\"\"},\"colorscale\":[[0.0,\"#0d0887\"],[0.1111111111111111,\"#46039f\"],[0.2222222222222222,\"#7201a8\"],[0.3333333333333333,\"#9c179e\"],[0.4444444444444444,\"#bd3786\"],[0.5555555555555556,\"#d8576b\"],[0.6666666666666666,\"#ed7953\"],[0.7777777777777778,\"#fb9f3a\"],[0.8888888888888888,\"#fdca26\"],[1.0,\"#f0f921\"]],\"type\":\"heatmap\"}],\"heatmapgl\":[{\"colorbar\":{\"outlinewidth\":0,\"ticks\":\"\"},\"colorscale\":[[0.0,\"#0d0887\"],[0.1111111111111111,\"#46039f\"],[0.2222222222222222,\"#7201a8\"],[0.3333333333333333,\"#9c179e\"],[0.4444444444444444,\"#bd3786\"],[0.5555555555555556,\"#d8576b\"],[0.6666666666666666,\"#ed7953\"],[0.7777777777777778,\"#fb9f3a\"],[0.8888888888888888,\"#fdca26\"],[1.0,\"#f0f921\"]],\"type\":\"heatmapgl\"}],\"histogram\":[{\"marker\":{\"pattern\":{\"fillmode\":\"overlay\",\"size\":10,\"solidity\":0.2}},\"type\":\"histogram\"}],\"histogram2d\":[{\"colorbar\":{\"outlinewidth\":0,\"ticks\":\"\"},\"colorscale\":[[0.0,\"#0d0887\"],[0.1111111111111111,\"#46039f\"],[0.2222222222222222,\"#7201a8\"],[0.3333333333333333,\"#9c179e\"],[0.4444444444444444,\"#bd3786\"],[0.5555555555555556,\"#d8576b\"],[0.6666666666666666,\"#ed7953\"],[0.7777777777777778,\"#fb9f3a\"],[0.8888888888888888,\"#fdca26\"],[1.0,\"#f0f921\"]],\"type\":\"histogram2d\"}],\"histogram2dcontour\":[{\"colorbar\":{\"outlinewidth\":0,\"ticks\":\"\"},\"colorscale\":[[0.0,\"#0d0887\"],[0.1111111111111111,\"#46039f\"],[0.2222222222222222,\"#7201a8\"],[0.3333333333333333,\"#9c179e\"],[0.4444444444444444,\"#bd3786\"],[0.5555555555555556,\"#d8576b\"],[0.6666666666666666,\"#ed7953\"],[0.7777777777777778,\"#fb9f3a\"],[0.8888888888888888,\"#fdca26\"],[1.0,\"#f0f921\"]],\"type\":\"histogram2dcontour\"}],\"mesh3d\":[{\"colorbar\":{\"outlinewidth\":0,\"ticks\":\"\"},\"type\":\"mesh3d\"}],\"parcoords\":[{\"line\":{\"colorbar\":{\"outlinewidth\":0,\"ticks\":\"\"}},\"type\":\"parcoords\"}],\"pie\":[{\"automargin\":true,\"type\":\"pie\"}],\"scatter\":[{\"marker\":{\"colorbar\":{\"outlinewidth\":0,\"ticks\":\"\"}},\"type\":\"scatter\"}],\"scatter3d\":[{\"line\":{\"colorbar\":{\"outlinewidth\":0,\"ticks\":\"\"}},\"marker\":{\"colorbar\":{\"outlinewidth\":0,\"ticks\":\"\"}},\"type\":\"scatter3d\"}],\"scattercarpet\":[{\"marker\":{\"colorbar\":{\"outlinewidth\":0,\"ticks\":\"\"}},\"type\":\"scattercarpet\"}],\"scattergeo\":[{\"marker\":{\"colorbar\":{\"outlinewidth\":0,\"ticks\":\"\"}},\"type\":\"scattergeo\"}],\"scattergl\":[{\"marker\":{\"colorbar\":{\"outlinewidth\":0,\"ticks\":\"\"}},\"type\":\"scattergl\"}],\"scattermapbox\":[{\"marker\":{\"colorbar\":{\"outlinewidth\":0,\"ticks\":\"\"}},\"type\":\"scattermapbox\"}],\"scatterpolar\":[{\"marker\":{\"colorbar\":{\"outlinewidth\":0,\"ticks\":\"\"}},\"type\":\"scatterpolar\"}],\"scatterpolargl\":[{\"marker\":{\"colorbar\":{\"outlinewidth\":0,\"ticks\":\"\"}},\"type\":\"scatterpolargl\"}],\"scatterternary\":[{\"marker\":{\"colorbar\":{\"outlinewidth\":0,\"ticks\":\"\"}},\"type\":\"scatterternary\"}],\"surface\":[{\"colorbar\":{\"outlinewidth\":0,\"ticks\":\"\"},\"colorscale\":[[0.0,\"#0d0887\"],[0.1111111111111111,\"#46039f\"],[0.2222222222222222,\"#7201a8\"],[0.3333333333333333,\"#9c179e\"],[0.4444444444444444,\"#bd3786\"],[0.5555555555555556,\"#d8576b\"],[0.6666666666666666,\"#ed7953\"],[0.7777777777777778,\"#fb9f3a\"],[0.8888888888888888,\"#fdca26\"],[1.0,\"#f0f921\"]],\"type\":\"surface\"}],\"table\":[{\"cells\":{\"fill\":{\"color\":\"#EBF0F8\"},\"line\":{\"color\":\"white\"}},\"header\":{\"fill\":{\"color\":\"#C8D4E3\"},\"line\":{\"color\":\"white\"}},\"type\":\"table\"}]},\"layout\":{\"annotationdefaults\":{\"arrowcolor\":\"#2a3f5f\",\"arrowhead\":0,\"arrowwidth\":1},\"autotypenumbers\":\"strict\",\"coloraxis\":{\"colorbar\":{\"outlinewidth\":0,\"ticks\":\"\"}},\"colorscale\":{\"diverging\":[[0,\"#8e0152\"],[0.1,\"#c51b7d\"],[0.2,\"#de77ae\"],[0.3,\"#f1b6da\"],[0.4,\"#fde0ef\"],[0.5,\"#f7f7f7\"],[0.6,\"#e6f5d0\"],[0.7,\"#b8e186\"],[0.8,\"#7fbc41\"],[0.9,\"#4d9221\"],[1,\"#276419\"]],\"sequential\":[[0.0,\"#0d0887\"],[0.1111111111111111,\"#46039f\"],[0.2222222222222222,\"#7201a8\"],[0.3333333333333333,\"#9c179e\"],[0.4444444444444444,\"#bd3786\"],[0.5555555555555556,\"#d8576b\"],[0.6666666666666666,\"#ed7953\"],[0.7777777777777778,\"#fb9f3a\"],[0.8888888888888888,\"#fdca26\"],[1.0,\"#f0f921\"]],\"sequentialminus\":[[0.0,\"#0d0887\"],[0.1111111111111111,\"#46039f\"],[0.2222222222222222,\"#7201a8\"],[0.3333333333333333,\"#9c179e\"],[0.4444444444444444,\"#bd3786\"],[0.5555555555555556,\"#d8576b\"],[0.6666666666666666,\"#ed7953\"],[0.7777777777777778,\"#fb9f3a\"],[0.8888888888888888,\"#fdca26\"],[1.0,\"#f0f921\"]]},\"colorway\":[\"#636efa\",\"#EF553B\",\"#00cc96\",\"#ab63fa\",\"#FFA15A\",\"#19d3f3\",\"#FF6692\",\"#B6E880\",\"#FF97FF\",\"#FECB52\"],\"font\":{\"color\":\"#2a3f5f\"},\"geo\":{\"bgcolor\":\"white\",\"lakecolor\":\"white\",\"landcolor\":\"#E5ECF6\",\"showlakes\":true,\"showland\":true,\"subunitcolor\":\"white\"},\"hoverlabel\":{\"align\":\"left\"},\"hovermode\":\"closest\",\"mapbox\":{\"style\":\"light\"},\"paper_bgcolor\":\"white\",\"plot_bgcolor\":\"#E5ECF6\",\"polar\":{\"angularaxis\":{\"gridcolor\":\"white\",\"linecolor\":\"white\",\"ticks\":\"\"},\"bgcolor\":\"#E5ECF6\",\"radialaxis\":{\"gridcolor\":\"white\",\"linecolor\":\"white\",\"ticks\":\"\"}},\"scene\":{\"xaxis\":{\"backgroundcolor\":\"#E5ECF6\",\"gridcolor\":\"white\",\"gridwidth\":2,\"linecolor\":\"white\",\"showbackground\":true,\"ticks\":\"\",\"zerolinecolor\":\"white\"},\"yaxis\":{\"backgroundcolor\":\"#E5ECF6\",\"gridcolor\":\"white\",\"gridwidth\":2,\"linecolor\":\"white\",\"showbackground\":true,\"ticks\":\"\",\"zerolinecolor\":\"white\"},\"zaxis\":{\"backgroundcolor\":\"#E5ECF6\",\"gridcolor\":\"white\",\"gridwidth\":2,\"linecolor\":\"white\",\"showbackground\":true,\"ticks\":\"\",\"zerolinecolor\":\"white\"}},\"shapedefaults\":{\"line\":{\"color\":\"#2a3f5f\"}},\"ternary\":{\"aaxis\":{\"gridcolor\":\"white\",\"linecolor\":\"white\",\"ticks\":\"\"},\"baxis\":{\"gridcolor\":\"white\",\"linecolor\":\"white\",\"ticks\":\"\"},\"bgcolor\":\"#E5ECF6\",\"caxis\":{\"gridcolor\":\"white\",\"linecolor\":\"white\",\"ticks\":\"\"}},\"title\":{\"x\":0.05},\"xaxis\":{\"automargin\":true,\"gridcolor\":\"white\",\"linecolor\":\"white\",\"ticks\":\"\",\"title\":{\"standoff\":15},\"zerolinecolor\":\"white\",\"zerolinewidth\":2},\"yaxis\":{\"automargin\":true,\"gridcolor\":\"white\",\"linecolor\":\"white\",\"ticks\":\"\",\"title\":{\"standoff\":15},\"zerolinecolor\":\"white\",\"zerolinewidth\":2}}},\"xaxis\":{\"anchor\":\"y\",\"domain\":[0.0,1.0],\"title\":{\"text\":\"model_name\"}},\"yaxis\":{\"anchor\":\"x\",\"domain\":[0.0,1.0],\"title\":{\"text\":\"accuracy\"}},\"legend\":{\"title\":{\"text\":\"split\"},\"tracegroupgap\":0},\"margin\":{\"t\":60},\"barmode\":\"group\"},                        {\"responsive\": true}                    ).then(function(){\n",
              "                            \n",
              "var gd = document.getElementById('f389a941-ad72-4418-ad91-dcf7d5207ff4');\n",
              "var x = new MutationObserver(function (mutations, observer) {{\n",
              "        var display = window.getComputedStyle(gd).display;\n",
              "        if (!display || display === 'none') {{\n",
              "            console.log([gd, 'removed!']);\n",
              "            Plotly.purge(gd);\n",
              "            observer.disconnect();\n",
              "        }}\n",
              "}});\n",
              "\n",
              "// Listen for the removal of the full notebook cells\n",
              "var notebookContainer = gd.closest('#notebook-container');\n",
              "if (notebookContainer) {{\n",
              "    x.observe(notebookContainer, {childList: true});\n",
              "}}\n",
              "\n",
              "// Listen for the clearing of the current output cell\n",
              "var outputEl = gd.closest('.output');\n",
              "if (outputEl) {{\n",
              "    x.observe(outputEl, {childList: true});\n",
              "}}\n",
              "\n",
              "                        })                };                            </script>        </div>\n",
              "</body>\n",
              "</html>"
            ]
          },
          "metadata": {}
        }
      ]
    },
    {
      "cell_type": "markdown",
      "source": [
        "# Feature Extaction & Dimension Reduction Model"
      ],
      "metadata": {
        "id": "b7FqtdcQ3-us"
      }
    },
    {
      "cell_type": "markdown",
      "source": [
        "## ResNet50 + LDA"
      ],
      "metadata": {
        "id": "cWIyyfJrYBNq"
      }
    },
    {
      "cell_type": "code",
      "source": [
        "def feature_extractor(model, x):\n",
        "  \"\"\"\n",
        "  Input->model, data\n",
        "  Output-> extracted features from CNN\n",
        "  \"\"\"\n",
        "  start = time.time()\n",
        "\n",
        "  for layer in model.layers:\n",
        "\t  layer.trainable = False\n",
        "    \n",
        "  extractor = model.predict(x)\n",
        "  features = extractor.reshape(extractor.shape[0], -1)\n",
        "\n",
        "  end = time.time()\n",
        "  print(f'Feature Extraction time {end - start} seconds')\n",
        "\n",
        "  return features"
      ],
      "metadata": {
        "id": "1OlWLU5Nhc26"
      },
      "execution_count": 12,
      "outputs": []
    },
    {
      "cell_type": "code",
      "source": [
        "from sklearn.discriminant_analysis import LinearDiscriminantAnalysis\n",
        "\n",
        "def train_lda_model(x_train, y_train, lda_model=LinearDiscriminantAnalysis()):\n",
        "  \"\"\"\n",
        "  input: x_train, y_train, lada_model\n",
        "  outfout: trained model on selected data\n",
        "  \"\"\"\n",
        "  start = time.time()\n",
        "\n",
        "  lda_model = lda_model.fit(x_train, y_train)\n",
        "  y_prediction = lda_model.predict(x_train)\n",
        "\n",
        "  end = time.time()\n",
        "\n",
        "  print(f'LDA model train time {end - start} seconds')\n",
        "\n",
        "  acc_score = lda_model.score(x_train, y_train)\n",
        "  f1 = f1_score(y_train, y_prediction, average='micro')\n",
        "  print(f'Model acc score: {acc_score}')\n",
        "  print(f'Model F1 score: {f1}')\n",
        "\n",
        "  return lda_model"
      ],
      "metadata": {
        "id": "VqK7y3ToLk8P"
      },
      "execution_count": 13,
      "outputs": []
    },
    {
      "cell_type": "code",
      "source": [
        "def test_model(x_test, cnn_model, lda_model):\n",
        "  \"\"\"\n",
        "  input: x_test, cnn_model, lda_model\n",
        "  output: the prediction of the model on the test set\n",
        "  \"\"\"\n",
        "  X_test_features = feature_extractor(cnn_model, x_test)\n",
        "\n",
        "  #Now predict using the trained RF model. \n",
        "  prediction = lda_model.predict(X_test_features)\n",
        "\n",
        "  return prediction"
      ],
      "metadata": {
        "id": "lGpsrBiqMuRc"
      },
      "execution_count": 11,
      "outputs": []
    },
    {
      "cell_type": "code",
      "source": [
        "from sklearn.metrics import multilabel_confusion_matrix\n",
        "\n",
        "def plot_confusion_matrix(\n",
        "    y_test, \n",
        "    y_pred_proba, \n",
        "    threshold=Config.CLASS_THRESHOLD, \n",
        "    label_names=Config.CLASSES\n",
        ")-> None:\n",
        "    \"\"\"\n",
        "    \"\"\"\n",
        "    # y_pred = np.where(y_pred_proba > threshold, 1, 0)\n",
        "    c_matrices = multilabel_confusion_matrix(y_test, y_pred_proba)\n",
        "    \n",
        "    cmap = plt.get_cmap('Blues')\n",
        "    fig, axes = plt.subplots(nrows=2, ncols=3, figsize=(15, 8))\n",
        "\n",
        "    for cm, label, ax in zip(c_matrices, label_names, axes.flatten()):\n",
        "        sns.heatmap(cm, annot=True, fmt='g', ax=ax, cmap=cmap);\n",
        "\n",
        "        ax.set_xlabel('Predicted labels');\n",
        "        ax.set_ylabel('True labels'); \n",
        "        ax.set_title(f'{label}');\n",
        "\n",
        "    plt.tight_layout()    \n",
        "    plt.show()"
      ],
      "metadata": {
        "id": "J64a4mnShsLh"
      },
      "execution_count": 16,
      "outputs": []
    },
    {
      "cell_type": "code",
      "source": [
        "from sklearn.metrics import confusion_matrix\n",
        "\n",
        "def plot_confusion_matrix_map(y_test, y_pred):\n",
        "#Confusion Matrix - verify accuracy of each class\n",
        "  # cm = confusion_matrix(y_test, prediction_RF)\n",
        "  cm = confusion_matrix(y_test, y_pred)\n",
        "  #print(cm)\n",
        "  plt.figure(figsize=(10,10))\n",
        "  sns.heatmap(cm, annot=True, square=True, xticklabels=Config.CLASSES, yticklabels=Config.CLASSES, fmt='.3g')\n",
        "  plt.show()\n"
      ],
      "metadata": {
        "id": "KzR14opQupYb"
      },
      "execution_count": 17,
      "outputs": []
    },
    {
      "cell_type": "code",
      "source": [
        "from sklearn_evaluation import plot\n",
        "from sklearn.model_selection import learning_curve\n",
        "from sklearn.model_selection import ShuffleSplit\n",
        "\n",
        "def show_learning_curve(model, X, t, cv, n_jobs=1):\n",
        "  train_sizes, train_scores, test_scores = learning_curve(\n",
        "    model, X, t, cv=cv, n_jobs=1, train_sizes=np.linspace(0.1, 1.0, 5))\n",
        "  plot.learning_curve(train_scores, test_scores, train_sizes)\n",
        "  plt.show()"
      ],
      "metadata": {
        "id": "aFEsIK9WrdQ9"
      },
      "execution_count": 18,
      "outputs": []
    },
    {
      "cell_type": "markdown",
      "source": [
        "### VI Images"
      ],
      "metadata": {
        "id": "uYSXZ2sbNHgg"
      }
    },
    {
      "cell_type": "code",
      "source": [
        "resnet50_model = ResNet50(weights='imagenet', include_top=False, input_shape=(Config.IMG_SIZE, Config.IMG_SIZE, 3))"
      ],
      "metadata": {
        "colab": {
          "base_uri": "https://localhost:8080/"
        },
        "id": "e1jfaR9TgSuB",
        "outputId": "cfcfbd63-e587-4ec6-d172-d1044c5264db"
      },
      "execution_count": 14,
      "outputs": [
        {
          "output_type": "stream",
          "name": "stdout",
          "text": [
            "Downloading data from https://storage.googleapis.com/tensorflow/keras-applications/resnet/resnet50_weights_tf_dim_ordering_tf_kernels_notop.h5\n",
            "94773248/94765736 [==============================] - 0s 0us/step\n",
            "94781440/94765736 [==============================] - 0s 0us/step\n"
          ]
        }
      ]
    },
    {
      "cell_type": "code",
      "source": [
        "# x_train_features = feature_extractor(model, x_vi_train)"
      ],
      "metadata": {
        "id": "vCzOrhusR6ru"
      },
      "execution_count": null,
      "outputs": []
    },
    {
      "cell_type": "code",
      "source": [
        "# x_train_features = feature_extractor(model, x_vi_train)"
      ],
      "metadata": {
        "id": "DEjQGhLMd1yt"
      },
      "execution_count": 15,
      "outputs": []
    },
    {
      "cell_type": "code",
      "source": [
        "x_train_features = feature_extractor(resnet50_model, x_vi_train)"
      ],
      "metadata": {
        "id": "k_ZjfJ-LkGA1",
        "colab": {
          "base_uri": "https://localhost:8080/"
        },
        "outputId": "fec02315-6c7d-4c9b-899c-ffc4b9ae20cf"
      },
      "execution_count": 16,
      "outputs": [
        {
          "output_type": "stream",
          "name": "stdout",
          "text": [
            "Feature Extraction time 10.737504243850708 seconds\n"
          ]
        }
      ]
    },
    {
      "cell_type": "code",
      "source": [
        "len(x_train_features)"
      ],
      "metadata": {
        "colab": {
          "base_uri": "https://localhost:8080/"
        },
        "id": "mIXiMg4dPBfA",
        "outputId": "2f8e9b9f-e0f9-429f-febf-58096688e405"
      },
      "execution_count": 119,
      "outputs": [
        {
          "output_type": "execute_result",
          "data": {
            "text/plain": [
              "840"
            ]
          },
          "metadata": {},
          "execution_count": 119
        }
      ]
    },
    {
      "cell_type": "code",
      "source": [
        "cv = ShuffleSplit(n_splits=5, test_size=0.2, random_state=1)"
      ],
      "metadata": {
        "id": "8IrqgfCLn2QC"
      },
      "execution_count": 21,
      "outputs": []
    },
    {
      "cell_type": "code",
      "source": [
        "lda_model = LinearDiscriminantAnalysis()"
      ],
      "metadata": {
        "id": "3NFvwwVtn3W9"
      },
      "execution_count": 17,
      "outputs": []
    },
    {
      "cell_type": "code",
      "source": [
        "# lda_model = train_lda_model(x_train_features, y_all_train, lda_model)"
      ],
      "metadata": {
        "id": "cnDUUg45d-XV"
      },
      "execution_count": null,
      "outputs": []
    },
    {
      "cell_type": "code",
      "source": [
        "show_learning_curve(lda_model, x_train_features, y_vi_train, cv)"
      ],
      "metadata": {
        "colab": {
          "base_uri": "https://localhost:8080/",
          "height": 295
        },
        "id": "OZJ1kMT8n2QD",
        "outputId": "3813f5c2-2162-4308-ef09-ba1a76403185"
      },
      "execution_count": 23,
      "outputs": [
        {
          "output_type": "display_data",
          "data": {
            "text/plain": [
              "<Figure size 432x288 with 1 Axes>"
            ],
            "image/png": "[encoded data removed]"
          },
          "metadata": {
            "needs_background": "light"
          }
        }
      ]
    },
    {
      "cell_type": "code",
      "source": [
        "lda_model = train_lda_model(x_train_features, y_vi_train, lda_model)"
      ],
      "metadata": {
        "colab": {
          "base_uri": "https://localhost:8080/"
        },
        "id": "AbBoaHc7gVLo",
        "outputId": "71fa04b5-5c67-4236-e7a4-7fdf3d136077"
      },
      "execution_count": 18,
      "outputs": [
        {
          "output_type": "stream",
          "name": "stdout",
          "text": [
            "LDA model train time 45.876688718795776 seconds\n",
            "Model acc score: 0.9154761904761904\n",
            "Model F1 score: 0.9154761904761906\n"
          ]
        }
      ]
    },
    {
      "cell_type": "code",
      "source": [
        "from sklearn.metrics import classification_report"
      ],
      "metadata": {
        "id": "Uiov4jfLUX3Z"
      },
      "execution_count": 35,
      "outputs": []
    },
    {
      "cell_type": "code",
      "source": [
        "from numpy.lib.function_base import average\n",
        "#Send test data through same feature extractor process and predict the test accuracy\n",
        "\n",
        "prediction = test_model(x_vi_test, resnet50_model, lda_model)\n",
        "\n",
        "#Print overall accuracy\n",
        "print (\"Accuracy = \", metrics.accuracy_score(y_vi_test, prediction))\n",
        "f1_test = f1_score(y_vi_test, prediction, average='micro')\n",
        "print(f'F1 Score = {f1_test}')"
      ],
      "metadata": {
        "colab": {
          "base_uri": "https://localhost:8080/"
        },
        "id": "xIuT2zNPlhHd",
        "outputId": "26f500eb-6871-4acb-a9a4-0f4d35073b95"
      },
      "execution_count": 41,
      "outputs": [
        {
          "output_type": "stream",
          "name": "stdout",
          "text": [
            "Accuracy =  0.7918367346938775\n",
            "F1 Score = 0.7918367346938775\n"
          ]
        }
      ]
    },
    {
      "cell_type": "code",
      "source": [
        "plot_confusion_matrix(y_vi_test, prediction)"
      ],
      "metadata": {
        "colab": {
          "base_uri": "https://localhost:8080/",
          "height": 585
        },
        "id": "7jn_SkbgnS7W",
        "outputId": "5eca60bb-0d65-4c95-f846-9ef843e42c41"
      },
      "execution_count": null,
      "outputs": [
        {
          "output_type": "display_data",
          "data": {
            "text/plain": [
              "<Figure size 1080x576 with 12 Axes>"
            ],
            "image/png": "[encoded data removed]"
          },
          "metadata": {
            "needs_background": "light"
          }
        }
      ]
    },
    {
      "cell_type": "code",
      "source": [
        "plot_confusion_matrix_map(y_vi_test, prediction)"
      ],
      "metadata": {
        "colab": {
          "base_uri": "https://localhost:8080/",
          "height": 580
        },
        "id": "IgThuV6jnd1s",
        "outputId": "75e0b514-4988-4b21-feaa-eafcc5971e98"
      },
      "execution_count": 42,
      "outputs": [
        {
          "output_type": "display_data",
          "data": {
            "text/plain": [
              "<Figure size 720x720 with 2 Axes>"
            ],
            "image/png": "[encoded data removed]"
          },
          "metadata": {
            "needs_background": "light"
          }
        }
      ]
    },
    {
      "cell_type": "code",
      "source": [
        "print(classification_report(y_vi_test, prediction, target_names=Config.CLASSES))"
      ],
      "metadata": {
        "colab": {
          "base_uri": "https://localhost:8080/"
        },
        "id": "MVBRb0X7UZN0",
        "outputId": "79f68832-717c-4f81-d0de-3fa87fb08e6b"
      },
      "execution_count": 44,
      "outputs": [
        {
          "output_type": "stream",
          "name": "stdout",
          "text": [
            "              precision    recall  f1-score   support\n",
            "\n",
            "       cargo       0.70      0.61      0.65        71\n",
            "medium-other       0.74      0.41      0.53        86\n",
            "   passanger       0.59      0.66      0.63        62\n",
            "     sailing       0.94      0.93      0.94       187\n",
            "       small       0.78      0.91      0.84       309\n",
            "         tug       0.75      0.45      0.56        20\n",
            "\n",
            "    accuracy                           0.79       735\n",
            "   macro avg       0.75      0.66      0.69       735\n",
            "weighted avg       0.79      0.79      0.78       735\n",
            "\n"
          ]
        }
      ]
    },
    {
      "cell_type": "markdown",
      "source": [
        "### IR Images"
      ],
      "metadata": {
        "id": "UcNkNArPNO-d"
      }
    },
    {
      "cell_type": "code",
      "source": [
        "x_ir_train_features = feature_extractor(resnet50_model, x_ir_train)"
      ],
      "metadata": {
        "colab": {
          "base_uri": "https://localhost:8080/"
        },
        "id": "U9IBNmkkNXsO",
        "outputId": "3d19ff85-8b07-4a87-e72e-2f0dad14dc91"
      },
      "execution_count": 25,
      "outputs": [
        {
          "output_type": "stream",
          "name": "stdout",
          "text": [
            "Feature Extraction time 1.281146764755249 seconds\n"
          ]
        }
      ]
    },
    {
      "cell_type": "code",
      "source": [
        "lda_ir_model = LinearDiscriminantAnalysis()"
      ],
      "metadata": {
        "id": "fl7NLuIlNXsP"
      },
      "execution_count": 26,
      "outputs": []
    },
    {
      "cell_type": "code",
      "source": [
        "show_learning_curve(lda_model, x_ir_train_features, y_ir_train, cv)"
      ],
      "metadata": {
        "colab": {
          "base_uri": "https://localhost:8080/",
          "height": 295
        },
        "id": "0ea9bcOHRwct",
        "outputId": "c706e820-2823-4fda-c9fc-42088c4b3df9"
      },
      "execution_count": 34,
      "outputs": [
        {
          "output_type": "display_data",
          "data": {
            "text/plain": [
              "<Figure size 432x288 with 1 Axes>"
            ],
            "image/png": "[encoded data removed]"
          },
          "metadata": {
            "needs_background": "light"
          }
        }
      ]
    },
    {
      "cell_type": "code",
      "source": [
        "lda_ir_model = train_lda_model(x_ir_train_features, y_ir_train, lda_ir_model)"
      ],
      "metadata": {
        "colab": {
          "base_uri": "https://localhost:8080/"
        },
        "outputId": "f1c8f3e8-a36d-4454-ade7-a5677e75f86e",
        "id": "b3Ux6CXVNXsP"
      },
      "execution_count": 27,
      "outputs": [
        {
          "output_type": "stream",
          "name": "stdout",
          "text": [
            "LDA model train time 23.932788133621216 seconds\n",
            "Model acc score: 0.9548872180451128\n",
            "Model F1 score: 0.9548872180451128\n"
          ]
        }
      ]
    },
    {
      "cell_type": "code",
      "source": [
        "from numpy.lib.function_base import average\n",
        "#Send test data through same feature extractor process\n",
        "# X_test_feature = feature_extractor(x_vi_test)\n",
        "\n",
        "#Now predict using the trained RF model. \n",
        "# prediction = test_model(x_vi_test, resnet50_model, lda_model)\n",
        "prediction_ir = test_model(x_ir_test, resnet50_model, lda_ir_model)\n",
        "#Inverse le transform to get original label back. \n",
        "# prediction_RF = le.inverse_transform(prediction_RF)\n",
        "\n",
        "#Print overall accuracy\n",
        "print (\"Accuracy = \", metrics.accuracy_score(y_ir_test, prediction_ir))\n",
        "f1_test = f1_score(y_ir_test, prediction_ir, average='micro')\n",
        "print(f'F1 Score = {f1_test}')"
      ],
      "metadata": {
        "colab": {
          "base_uri": "https://localhost:8080/"
        },
        "outputId": "adc5d609-2ee4-4e80-de89-f25d89742e7a",
        "id": "6BrJMoCsNXsQ"
      },
      "execution_count": 50,
      "outputs": [
        {
          "output_type": "stream",
          "name": "stdout",
          "text": [
            "Accuracy =  0.5201149425287356\n",
            "F1 Score = 0.5201149425287356\n"
          ]
        }
      ]
    },
    {
      "cell_type": "code",
      "source": [
        "plot_confusion_matrix(y_ir_test, prediction_ir)"
      ],
      "metadata": {
        "colab": {
          "base_uri": "https://localhost:8080/",
          "height": 585
        },
        "outputId": "814c1b07-eeac-43cf-8676-516feaebd33a",
        "id": "8Kk628CANXsR"
      },
      "execution_count": 111,
      "outputs": [
        {
          "output_type": "display_data",
          "data": {
            "text/plain": [
              "<Figure size 1080x576 with 12 Axes>"
            ],
            "image/png": "[encoded data removed]"
          },
          "metadata": {
            "needs_background": "light"
          }
        }
      ]
    },
    {
      "cell_type": "code",
      "source": [
        "plot_confusion_matrix_map(y_ir_test, prediction_ir)"
      ],
      "metadata": {
        "colab": {
          "base_uri": "https://localhost:8080/",
          "height": 574
        },
        "id": "CRqq0kjwOqxN",
        "outputId": "35126d7f-7c00-4b63-9a2b-83704022363a"
      },
      "execution_count": 51,
      "outputs": [
        {
          "output_type": "display_data",
          "data": {
            "text/plain": [
              "<Figure size 720x720 with 2 Axes>"
            ],
            "image/png": "[encoded data removed]"
          },
          "metadata": {
            "needs_background": "light"
          }
        }
      ]
    },
    {
      "cell_type": "code",
      "source": [
        "print(classification_report(y_ir_test, prediction_ir, target_names=Config.CLASSES))"
      ],
      "metadata": {
        "colab": {
          "base_uri": "https://localhost:8080/"
        },
        "id": "Lld9WgHHWO5O",
        "outputId": "adcf31fb-dc70-4e5b-8a2e-3a89f9911802"
      },
      "execution_count": 52,
      "outputs": [
        {
          "output_type": "stream",
          "name": "stdout",
          "text": [
            "              precision    recall  f1-score   support\n",
            "\n",
            "       cargo       0.38      0.63      0.47        97\n",
            "medium-other       0.43      0.36      0.39        90\n",
            "   passanger       0.28      0.25      0.26        71\n",
            "     sailing       0.64      0.83      0.72       144\n",
            "       small       0.66      0.56      0.61       225\n",
            "         tug       0.29      0.07      0.12        69\n",
            "\n",
            "    accuracy                           0.52       696\n",
            "   macro avg       0.45      0.45      0.43       696\n",
            "weighted avg       0.51      0.52      0.50       696\n",
            "\n"
          ]
        }
      ]
    }
  ]
}